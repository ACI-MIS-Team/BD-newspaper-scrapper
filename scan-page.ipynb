{
 "cells": [
  {
   "cell_type": "code",
   "execution_count": 1,
   "metadata": {
    "collapsed": true
   },
   "outputs": [
    {
     "name": "stderr",
     "output_type": "stream",
     "text": [
      "/usr/lib/python3/dist-packages/past/builtins/misc.py:45: DeprecationWarning: the imp module is deprecated in favour of importlib; see the module's documentation for alternative uses\n",
      "  from imp import reload\n",
      "/home/shadman/.local/lib/python3.8/site-packages/gensim/matutils.py:22: DeprecationWarning: Please use `triu` from the `scipy.linalg` namespace, the `scipy.linalg.special_matrices` namespace is deprecated.\n",
      "  from scipy.linalg.special_matrices import triu\n",
      "/home/shadman/.local/lib/python3.8/site-packages/torch/cuda/__init__.py:83: UserWarning: HIP initialization: Unexpected error from hipGetDeviceCount(). Did you run some cuda functions before calling NumHipDevices() that might have already set an error? Error 101: hipErrorInvalidDevice (Triggered internally at  ../c10/hip/HIPFunctions.cpp:110.)\n",
      "  return torch._C._cuda_getDeviceCount() > 0\n",
      "2022-12-13 10:56:28.683161: I tensorflow/core/platform/cpu_feature_guard.cc:193] This TensorFlow binary is optimized with oneAPI Deep Neural Network Library (oneDNN) to use the following CPU instructions in performance-critical operations:  AVX2 AVX512F AVX512_VNNI FMA\n",
      "To enable them in other operations, rebuild TensorFlow with the appropriate compiler flags.\n",
      "2022-12-13 10:56:28.985206: I tensorflow/core/util/util.cc:169] oneDNN custom operations are on. You may see slightly different numerical results due to floating-point round-off errors from different computation orders. To turn them off, set the environment variable `TF_ENABLE_ONEDNN_OPTS=0`.\n",
      "2022-12-13 10:56:29.052967: W tensorflow/stream_executor/platform/default/dso_loader.cc:64] Could not load dynamic library 'libcudart.so.11.0'; dlerror: libcudart.so.11.0: cannot open shared object file: No such file or directory\n",
      "2022-12-13 10:56:29.052997: I tensorflow/stream_executor/cuda/cudart_stub.cc:29] Ignore above cudart dlerror if you do not have a GPU set up on your machine.\n",
      "2022-12-13 10:56:29.102949: E tensorflow/stream_executor/cuda/cuda_blas.cc:2981] Unable to register cuBLAS factory: Attempting to register factory for plugin cuBLAS when one has already been registered\n",
      "2022-12-13 10:56:30.051464: W tensorflow/stream_executor/platform/default/dso_loader.cc:64] Could not load dynamic library 'libnvinfer.so.7'; dlerror: libnvinfer.so.7: cannot open shared object file: No such file or directory\n",
      "2022-12-13 10:56:30.051545: W tensorflow/stream_executor/platform/default/dso_loader.cc:64] Could not load dynamic library 'libnvinfer_plugin.so.7'; dlerror: libnvinfer_plugin.so.7: cannot open shared object file: No such file or directory\n",
      "2022-12-13 10:56:30.051551: W tensorflow/compiler/tf2tensorrt/utils/py_utils.cc:38] TF-TRT Warning: Cannot dlopen some TensorRT libraries. If you would like to use Nvidia GPU with TensorRT, please make sure the missing libraries mentioned above are installed properly.\n",
      "2022-12-13 10:56:30.787784: W tensorflow/stream_executor/platform/default/dso_loader.cc:64] Could not load dynamic library 'libcuda.so.1'; dlerror: libcuda.so.1: cannot open shared object file: No such file or directory\n",
      "2022-12-13 10:56:30.788042: W tensorflow/stream_executor/cuda/cuda_driver.cc:263] failed call to cuInit: UNKNOWN ERROR (303)\n",
      "2022-12-13 10:56:30.788058: I tensorflow/stream_executor/cuda/cuda_diagnostics.cc:156] kernel driver does not appear to be running on this host (HP-ProBook-27516): /proc/driver/nvidia/version does not exist\n"
     ]
    }
   ],
   "source": [
    "import pandas as pd\n",
    "from bs4 import BeautifulSoup\n",
    "from selenium.webdriver.common.keys import Keys\n",
    "from selenium.webdriver.support.ui import WebDriverWait\n",
    "from selenium.webdriver.common.by import By\n",
    "from selenium.webdriver.support import expected_conditions as EC\n",
    "from selenium.common.exceptions import TimeoutException, ElementClickInterceptedException\n",
    "from selenium.webdriver.common.action_chains import ActionChains as AC\n",
    "import requests\n",
    "from time import sleep\n",
    "import re\n",
    "from deep_translator import (GoogleTranslator, single_detection)\n",
    "from selenium import webdriver\n",
    "import chromedriver_autoinstaller\n",
    "import geckodriver_autoinstaller\n",
    "import os\n",
    "import torch\n",
    "from transformers import AutoTokenizer, AutoModelForSequenceClassification\n",
    "\n",
    "import re\n",
    "# from pprint import pprint\n",
    "import pyLDAvis.gensim_models\n",
    "# pyLDAvis.enable_notebook()\n",
    "import gensim, spacy, logging, warnings\n",
    "import gensim.corpora as corpora\n",
    "import nltk\n",
    "from gensim.utils import  simple_preprocess\n",
    "from gensim.models import CoherenceModel\n",
    "# import matplotlib.pyplot as plt\n",
    "from nltk.corpus import stopwords\n",
    "import undetected_chromedriver as uc"
   ]
  },
  {
   "cell_type": "code",
   "execution_count": 4,
   "outputs": [
    {
     "name": "stderr",
     "output_type": "stream",
     "text": [
      "/home/shadman/.local/lib/python3.8/site-packages/undetected_chromedriver/__init__.py:409: DeprecationWarning: executable_path has been deprecated, please pass in a Service object\n",
      "  super(Chrome, self).__init__(\n",
      "/home/shadman/.local/lib/python3.8/site-packages/undetected_chromedriver/__init__.py:409: DeprecationWarning: keep_alive has been deprecated, please pass in a Service object\n",
      "  super(Chrome, self).__init__(\n",
      "/home/shadman/.local/lib/python3.8/site-packages/selenium/webdriver/chrome/webdriver.py:69: DeprecationWarning: desired_capabilities has been deprecated, please pass in a Service object\n",
      "  super().__init__(DesiredCapabilities.CHROME['browserName'], \"goog\",\n"
     ]
    }
   ],
   "source": [
    "options = webdriver.ChromeOptions()\n",
    "driver = uc.Chrome(options=options)"
   ],
   "metadata": {
    "collapsed": false
   }
  },
  {
   "cell_type": "code",
   "execution_count": 13,
   "outputs": [
    {
     "name": "stdout",
     "output_type": "stream",
     "text": [
      "স্যাভলন হ্যান্ড স্যানিটাইজার\n",
      "ক্ষতিকর মিথানল দিয়ে স্যাভলন হ্যান্ড স্যানিটাইজার বানানোর কারণে এসিআইকে এক কোটি টাকা জরিমানা করেছে র‍্যাব। এ ছাড়াও ৪৮ ঘন্টার মধ্যে এই পন্য বাজার থেকে সরিয়ে ফেলার নির্দেশ দেয়া হয়েছে। র‍্যাবের ভ্রাম্যমাণ আদালতের নির্বাহী ম্যাজিস্ট্রেট সরোয়ার আলম রবিবার ভোরের কাগজকে বিষয়টির সত্যতা নিশ্চিত করেন।\n",
      "গত ৪ অক্টোবর জনস্বার্থ বিবেচনায় বাজারে থাকা বিভিন্ন কোম্পানির ১৪টি হ্যান্ড স্যানিটাইজার ল্যাবে নিয়ে পরীক্ষা করে র‌্যাব। সেই পরীক্ষাতেই জানা যায়, এসিআইয়ের স্যাভলন ব্র্যান্ডের হ্যান্ড স্যানিটাইজারে রয়েছে বিষাক্ত মিথানলের উপস্থিতি। পরে অভিযান চালিয়ে এসিআইয়ের গাজীপুরের কোনাবাড়ীতে অবস্থিত কারখানাটি সিলগালা করেন দেন র‍্যাবের ম্যাজিস্ট্রেট সারওয়ার আলম। কারখানাটিকে ১৭ লাখ টাকা জরিমানাও করা হয়। বিভিন্ন বৈজ্ঞানিক গবেষণা থেকে প্রাপ্ত ফল বলছে, স্যানিটাইজার হিসেবে মিথানল ব্যবহার করলে ত্বকে দীর্ঘস্থায়ী ক্ষত তৈরি হওয়াসহ আরো নানা ধরনের সমস্যা দেখা দিতে পারে। ফলে হ্যান্ড স্যানিটাইজারে কোনোভাবেই মিথানল ব্যবহার না করার কথা উঠে এসেছে।\n",
      "এ বিষয়ে র‍্যাবের ভ্রাম্যমাণ আদালতের নির্বাহী ম্যাজিস্ট্রেট সরোয়ার আলম বলেন, বিশেষজ্ঞদের মতামত অনুযায়ী হ্যান্ড স্যানিটাইজার তৈরিতে জীবাণুনাশক উপাদান হিসেবে মূলত ব্যবহার করা হয় আইসোপ্রোপাইল অ্যালকোহল বা ইথানল। কোনো কোনো স্যানিটাইজারে দু’টিই নির্দিষ্ট মাত্রা ও অনুপাতে ব্যবহার করা হয়ে থাকে। এর কোনোটির বদলে মিথানলের ব্যবহার অত্যন্ত ঝুঁকিপূর্ণ। গত রবিবারের ওই অভিযানে আমারা স্যাভলন হ্যান্ড স্যানিটাইজারে মিথানলের প্রমাণ পাই। তবে আরো নিশ্চিত হওয়ার জন্য গাজিপুরের কারখানায় পাওয়া হ্যান্ড স্যানিটাইজার পরীক্ষার জন্য অন্যান্য কয়েকটি পরীক্ষাগারে পাঠানো হয়। যার ফলাফল রবিবার আমরা হাতে পেয়েছি। সেখানেও মিথানলের প্রমাণ পাওয়ায় হ্যান্ড স্যানিটাইজার তৈরি করে প্রতিষ্ঠান এসিআইকে ১ কোটি টাকা জরিমানা করাসহ ৪৮ ঘন্টার মধ্যে এই পন্য বাজার থেকে সরিয়ে ফেলার নির্দেশ দেয়া হয়েছে। এই ধরনের অভিযান ভবিষ্যতেও অব্যাহত থাকবে বলে জানান নির্বাহী ম্যাজিস্ট্রেট সারোয়ার আলম।\n",
      "ডিসি\n"
     ]
    }
   ],
   "source": [
    "link = 'https://www.bhorerkagoj.com/2020/10/11/%e0%a6%8f%e0%a6%b8%e0%a6%bf%e0%a6%86%e0%a6%87%e0%a6%95%e0%a7%87-%e0%a7%a7-%e0%a6%95%e0%a7%8b%e0%a6%9f%e0%a6%bf-%e0%a6%9f%e0%a6%be%e0%a6%95%e0%a6%be-%e0%a6%9c%e0%a6%b0%e0%a6%bf%e0%a6%ae%e0%a6%be/'\n",
    "date_id = link.find('bhorerkagoj.com/') + len('bhorerkagoj.com/')\n",
    "date = link[date_id:date_id + 10]\n",
    "\n",
    "headline = driver.find_element(By.XPATH, \"//h2[@class='title']\")\n",
    "section = driver.find_element(By.XPATH, \"//a[@rel='category tag']\")\n",
    "source = driver.find_element(By.XPATH, \"//p[@class='name']\")\n",
    "content = driver.find_element(By.XPATH, \"//div[@id='content-p']\")\n",
    "\n",
    "# page_source = requests.get(link).text\n",
    "# page_html = BeautifulSoup(page_source, features=\"html.parser\")\n",
    "# headline = page_html.find('h2', {'class': 'title'})\n",
    "# section = page_html.find('a', {'rel': 'category tag'})\n",
    "# source = page_html.find('p', {'class': 'name'})\n",
    "# driver.get()\n",
    "print(content.text)"
   ],
   "metadata": {
    "collapsed": false
   }
  },
  {
   "cell_type": "code",
   "execution_count": 11,
   "outputs": [
    {
     "data": {
      "text/plain": "'আইন ও বিচার'"
     },
     "execution_count": 11,
     "metadata": {},
     "output_type": "execute_result"
    }
   ],
   "source": [
    "section.text"
   ],
   "metadata": {
    "collapsed": false
   }
  },
  {
   "cell_type": "code",
   "execution_count": null,
   "outputs": [],
   "source": [
    "def scan_page_bhorerkagoj_sel(link, keep_content=True):\n",
    "    date_id = link.find('bhorerkagoj.com/') + len('bhorerkagoj.com/')\n",
    "    date = link[date_id:date_id + 10]\n",
    "\n",
    "    driver.get(link)\n",
    "    headline = driver.find_element(By.XPATH, \"//h2[@class='title']\")\n",
    "    section = driver.find_element(By.XPATH, \"//a[@rel='category tag']\")\n",
    "    source = driver.find_element(By.XPATH, \"//p[@class='name']\")\n",
    "    try:\n",
    "\n",
    "        data_dict = {\n",
    "            'newspaper': 'bhorerkagoj',\n",
    "            'link': link,\n",
    "            'language': 'bn',\n",
    "            'date': date,\n",
    "            'section': section.text.strip() if section else '',\n",
    "            'source': source.text.strip() if source else '',\n",
    "            'headline': headline.text.strip()\n",
    "        }\n",
    "        if keep_content:\n",
    "            description = driver.find_element(By.XPATH, \"//div[@id='content-p']\")\n",
    "            data_dict['description'] = description.text.strip()\n",
    "    except:\n",
    "        print(\"Error in extracting information or advertisement error.\")\n",
    "    return data_dict"
   ],
   "metadata": {
    "collapsed": false
   }
  },
  {
   "cell_type": "code",
   "execution_count": 14,
   "outputs": [],
   "source": [
    "driver.back()"
   ],
   "metadata": {
    "collapsed": false
   }
  }
 ],
 "metadata": {
  "kernelspec": {
   "display_name": "Python 3",
   "language": "python",
   "name": "python3"
  },
  "language_info": {
   "codemirror_mode": {
    "name": "ipython",
    "version": 2
   },
   "file_extension": ".py",
   "mimetype": "text/x-python",
   "name": "python",
   "nbconvert_exporter": "python",
   "pygments_lexer": "ipython2",
   "version": "2.7.6"
  }
 },
 "nbformat": 4,
 "nbformat_minor": 0
}
