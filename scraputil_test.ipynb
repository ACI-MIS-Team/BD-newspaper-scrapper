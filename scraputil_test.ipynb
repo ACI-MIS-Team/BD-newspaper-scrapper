{
 "cells": [
  {
   "cell_type": "code",
   "execution_count": 3,
   "metadata": {
    "collapsed": true
   },
   "outputs": [],
   "source": [
    "from scraputil import *\n",
    "import pandas as pd"
   ]
  },
  {
   "cell_type": "code",
   "execution_count": 4,
   "outputs": [
    {
     "name": "stdout",
     "output_type": "stream",
     "text": [
      "Scraping from The Business Standard\n",
      "Searching...\n",
      "Search results ready!!\n",
      "News number: 1\n",
      "News number: 2\n",
      "News number: 3\n",
      "News number: 4\n",
      "News number: 5\n",
      "News number: 6\n",
      "News number: 7\n",
      "News number: 8\n",
      "News number: 9\n",
      "News number: 10\n",
      "1\n",
      "End of The Business Standard search!\n",
      "0 GPU available\n",
      "Model already on device!\n"
     ]
    },
    {
     "name": "stderr",
     "output_type": "stream",
     "text": [
      "/home/shadman/.local/lib/python3.8/site-packages/torch/cuda/__init__.py:83: UserWarning: HIP initialization: Unexpected error from hipGetDeviceCount(). Did you run some cuda functions before calling NumHipDevices() that might have already set an error? Error 101: hipErrorInvalidDevice (Triggered internally at  ../c10/hip/HIPFunctions.cpp:110.)\n",
      "  return torch._C._cuda_getDeviceCount() > 0\n"
     ]
    }
   ],
   "source": [
    "names = [ # 'newspapers71',\n",
    "         'ntv',\n",
    "         'prothomalo',\n",
    "         'kalerkantho',\n",
    "         'bhorerkagoj',\n",
    "         'jaijaidin',\n",
    "         # 'amadershomoy',\n",
    "         'inqilab',\n",
    "         'jugantor',\n",
    "         'nayadiganta',\n",
    "         'manabzamin',\n",
    "         'thedailystar',\n",
    "         'dhakatribune',\n",
    "         'tbsnews',\n",
    "         'thefinancialexpress']\n",
    "\n",
    "get_news = GetNews(browser=\"Firefox\", headless=False, search_key=\"এসিআই\")\n",
    "get_news.select_browser(\"Firefox\")\n",
    "\n",
    "translate = True\n",
    "news_data_df = pd.DataFrame()\n",
    "for name in names[-2:-1]:\n",
    "    news_df = get_news.extract(name, google_news=False, keep_content=True)\n",
    "    if translate: news_df = get_news.translate_news(news_df)\n",
    "    news_df['sentiment'] = get_sentiment(news_df.headline.to_list())\n",
    "    news_data_df = pd.concat((news_data_df, news_df), axis=0, ignore_index=True)\n",
    "\n",
    "get_news.close_browser()\n",
    "news_data_df.to_csv(\"./outputs.csv\", index=False)"
   ],
   "metadata": {
    "collapsed": false
   }
  },
  {
   "cell_type": "code",
   "execution_count": 5,
   "outputs": [
    {
     "data": {
      "text/plain": "               newspaper                                               link  \\\n0  the business standard  https://www.tbsnews.net/bangla/%E0%A6%AC%E0%A6...   \n1  the business standard  https://www.tbsnews.net/bangla/%E0%A6%9A%E0%A6...   \n2  the business standard  https://www.tbsnews.net/economy/stocks/aci-for...   \n3  the business standard  https://www.tbsnews.net/economy/aci-profits-so...   \n4  the business standard  https://www.tbsnews.net/economy/stocks/aci-get...   \n5  the business standard                   https://www.tbsnews.net/tags/aci   \n6  the business standard  https://www.tbsnews.net/bangla/tags/%E0%A6%8F%...   \n7  the business standard  https://www.tbsnews.net/economy/acis-quarterly...   \n8  the business standard  https://www.tbsnews.net/economy/corporates/aci...   \n9  the business standard  https://www.tbsnews.net/economy/corporates/aci...   \n\n  language        date     section                  source  \\\n0       en  2022-04-08                            শওকত আলী   \n1       en  2020-10-04              টিবিএস ক্যারিয়ার ডেস্ক   \n2       en  2022-06-14      Stocks       Ahsan Habib Tuhin   \n3       en  2022-01-30     Economy       Mahfuz Ullah Babu   \n4       en  2022-04-30      Stocks       Mahfuz Ullah Babu   \n5       en                                                   \n6       en                          আবুল কাশেম  & শওকত আলী   \n7       en  2021-11-11     Economy              TBS Report   \n8       en  2022-04-24  Corporates              TBS Report   \n9       en  2022-07-06  Corporates              TBS report   \n\n                                            headline  \\\n0  জৈবসার উৎপাদনের মাধ্যমে বর্জ্য ব্যবস্থাপনা প্র...   \n1                          চাকরির সুযোগ দিচ্ছে এসিআই   \n2  ACI Formulations to separate agrochemical busi...   \n3  ACI profits soar on robust motors, salt, ferti...   \n4                     ACI gets first US FDA approval   \n5                                                      \n6  গ্যাস রেশনিং বন্ধের জন্য বাণিজ্য মন্ত্রণালয়কে ...   \n7                  ACI’s quarterly profit grows 155%   \n8  ACI Motors introduces brand new Foton ambulanc...   \n9              ACI hosts ACI Crop Care Conclave 2022   \n\n                                         description sentiment  \n0  পচনশীল যে কোন ধরনের বর্জ্য থেকে জৈবসার তৈরির প...       NEU  \n1  বিভিন্ন পদে চাকরির সুযোগ দিচ্ছে অ্যাডভান্সড কে...       NEU  \n2  Infographic: TBS\\nACI Formulations Limited's b...       NEU  \n3  Growth in the agro machinery, construction equ...       POS  \n4  Advanced Chemical Industries (ACI) received th...       POS  \n5                                               None       NEU  \n6  কোভিড পরিবর্তী সময়ে শিল্প কারখানাগুলো যখন পূর্...       NEU  \n7  ACI Limited has posted 155% year-on-year profi...       POS  \n8  ACI Motors has introduced a brand new ambulanc...       NEU  \n9  The much-awaited Conclave 2022 of ACI Crop Car...       NEU  ",
      "text/html": "<div>\n<style scoped>\n    .dataframe tbody tr th:only-of-type {\n        vertical-align: middle;\n    }\n\n    .dataframe tbody tr th {\n        vertical-align: top;\n    }\n\n    .dataframe thead th {\n        text-align: right;\n    }\n</style>\n<table border=\"1\" class=\"dataframe\">\n  <thead>\n    <tr style=\"text-align: right;\">\n      <th></th>\n      <th>newspaper</th>\n      <th>link</th>\n      <th>language</th>\n      <th>date</th>\n      <th>section</th>\n      <th>source</th>\n      <th>headline</th>\n      <th>description</th>\n      <th>sentiment</th>\n    </tr>\n  </thead>\n  <tbody>\n    <tr>\n      <th>0</th>\n      <td>the business standard</td>\n      <td>https://www.tbsnews.net/bangla/%E0%A6%AC%E0%A6...</td>\n      <td>en</td>\n      <td>2022-04-08</td>\n      <td></td>\n      <td>শওকত আলী</td>\n      <td>জৈবসার উৎপাদনের মাধ্যমে বর্জ্য ব্যবস্থাপনা প্র...</td>\n      <td>পচনশীল যে কোন ধরনের বর্জ্য থেকে জৈবসার তৈরির প...</td>\n      <td>NEU</td>\n    </tr>\n    <tr>\n      <th>1</th>\n      <td>the business standard</td>\n      <td>https://www.tbsnews.net/bangla/%E0%A6%9A%E0%A6...</td>\n      <td>en</td>\n      <td>2020-10-04</td>\n      <td></td>\n      <td>টিবিএস ক্যারিয়ার ডেস্ক</td>\n      <td>চাকরির সুযোগ দিচ্ছে এসিআই</td>\n      <td>বিভিন্ন পদে চাকরির সুযোগ দিচ্ছে অ্যাডভান্সড কে...</td>\n      <td>NEU</td>\n    </tr>\n    <tr>\n      <th>2</th>\n      <td>the business standard</td>\n      <td>https://www.tbsnews.net/economy/stocks/aci-for...</td>\n      <td>en</td>\n      <td>2022-06-14</td>\n      <td>Stocks</td>\n      <td>Ahsan Habib Tuhin</td>\n      <td>ACI Formulations to separate agrochemical busi...</td>\n      <td>Infographic: TBS\\nACI Formulations Limited's b...</td>\n      <td>NEU</td>\n    </tr>\n    <tr>\n      <th>3</th>\n      <td>the business standard</td>\n      <td>https://www.tbsnews.net/economy/aci-profits-so...</td>\n      <td>en</td>\n      <td>2022-01-30</td>\n      <td>Economy</td>\n      <td>Mahfuz Ullah Babu</td>\n      <td>ACI profits soar on robust motors, salt, ferti...</td>\n      <td>Growth in the agro machinery, construction equ...</td>\n      <td>POS</td>\n    </tr>\n    <tr>\n      <th>4</th>\n      <td>the business standard</td>\n      <td>https://www.tbsnews.net/economy/stocks/aci-get...</td>\n      <td>en</td>\n      <td>2022-04-30</td>\n      <td>Stocks</td>\n      <td>Mahfuz Ullah Babu</td>\n      <td>ACI gets first US FDA approval</td>\n      <td>Advanced Chemical Industries (ACI) received th...</td>\n      <td>POS</td>\n    </tr>\n    <tr>\n      <th>5</th>\n      <td>the business standard</td>\n      <td>https://www.tbsnews.net/tags/aci</td>\n      <td>en</td>\n      <td></td>\n      <td></td>\n      <td></td>\n      <td></td>\n      <td>None</td>\n      <td>NEU</td>\n    </tr>\n    <tr>\n      <th>6</th>\n      <td>the business standard</td>\n      <td>https://www.tbsnews.net/bangla/tags/%E0%A6%8F%...</td>\n      <td>en</td>\n      <td></td>\n      <td></td>\n      <td>আবুল কাশেম  &amp; শওকত আলী</td>\n      <td>গ্যাস রেশনিং বন্ধের জন্য বাণিজ্য মন্ত্রণালয়কে ...</td>\n      <td>কোভিড পরিবর্তী সময়ে শিল্প কারখানাগুলো যখন পূর্...</td>\n      <td>NEU</td>\n    </tr>\n    <tr>\n      <th>7</th>\n      <td>the business standard</td>\n      <td>https://www.tbsnews.net/economy/acis-quarterly...</td>\n      <td>en</td>\n      <td>2021-11-11</td>\n      <td>Economy</td>\n      <td>TBS Report</td>\n      <td>ACI’s quarterly profit grows 155%</td>\n      <td>ACI Limited has posted 155% year-on-year profi...</td>\n      <td>POS</td>\n    </tr>\n    <tr>\n      <th>8</th>\n      <td>the business standard</td>\n      <td>https://www.tbsnews.net/economy/corporates/aci...</td>\n      <td>en</td>\n      <td>2022-04-24</td>\n      <td>Corporates</td>\n      <td>TBS Report</td>\n      <td>ACI Motors introduces brand new Foton ambulanc...</td>\n      <td>ACI Motors has introduced a brand new ambulanc...</td>\n      <td>NEU</td>\n    </tr>\n    <tr>\n      <th>9</th>\n      <td>the business standard</td>\n      <td>https://www.tbsnews.net/economy/corporates/aci...</td>\n      <td>en</td>\n      <td>2022-07-06</td>\n      <td>Corporates</td>\n      <td>TBS report</td>\n      <td>ACI hosts ACI Crop Care Conclave 2022</td>\n      <td>The much-awaited Conclave 2022 of ACI Crop Car...</td>\n      <td>NEU</td>\n    </tr>\n  </tbody>\n</table>\n</div>"
     },
     "execution_count": 5,
     "metadata": {},
     "output_type": "execute_result"
    }
   ],
   "source": [
    "news_data_df"
   ],
   "metadata": {
    "collapsed": false
   }
  },
  {
   "cell_type": "code",
   "execution_count": 18,
   "outputs": [],
   "source": [
    "bangla_bert_df = news_data_df.headline.to_list()\n",
    "pd.DataFrame(bangla_bert_df, columns=['sentence1']).to_csv('../banglabert/banglabert_output.csv')"
   ],
   "metadata": {
    "collapsed": false
   }
  },
  {
   "cell_type": "code",
   "execution_count": 3,
   "outputs": [],
   "source": [
    "df = pd.DataFrame({'name': ['Olivia','Dean','Alex','Jon','Tom','Jane','Kate'],\n",
    "           'age': [32,23,45,35,20,28,55],\n",
    "           'sex':['female', 'male','male','male','male','female','female']})"
   ],
   "metadata": {
    "collapsed": false
   }
  },
  {
   "cell_type": "code",
   "execution_count": 6,
   "outputs": [
    {
     "name": "stderr",
     "output_type": "stream",
     "text": [
      "/tmp/ipykernel_16228/3360014758.py:1: SettingWithCopyWarning: \n",
      "A value is trying to be set on a copy of a slice from a DataFrame\n",
      "\n",
      "See the caveats in the documentation: https://pandas.pydata.org/pandas-docs/stable/user_guide/indexing.html#returning-a-view-versus-a-copy\n",
      "  df.name[2] = 5\n"
     ]
    }
   ],
   "source": [
    "df.name[2] = 5"
   ],
   "metadata": {
    "collapsed": false
   }
  },
  {
   "cell_type": "code",
   "execution_count": null,
   "outputs": [],
   "source": [],
   "metadata": {
    "collapsed": false
   }
  }
 ],
 "metadata": {
  "kernelspec": {
   "display_name": "Python 3",
   "language": "python",
   "name": "python3"
  },
  "language_info": {
   "codemirror_mode": {
    "name": "ipython",
    "version": 2
   },
   "file_extension": ".py",
   "mimetype": "text/x-python",
   "name": "python",
   "nbconvert_exporter": "python",
   "pygments_lexer": "ipython2",
   "version": "2.7.6"
  }
 },
 "nbformat": 4,
 "nbformat_minor": 0
}
