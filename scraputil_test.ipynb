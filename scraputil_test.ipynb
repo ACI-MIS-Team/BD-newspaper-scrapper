{
 "cells": [
  {
   "cell_type": "code",
   "execution_count": 1,
   "metadata": {
    "collapsed": true
   },
   "outputs": [
    {
     "name": "stderr",
     "output_type": "stream",
     "text": [
      "/usr/lib/python3/dist-packages/past/builtins/misc.py:45: DeprecationWarning: the imp module is deprecated in favour of importlib; see the module's documentation for alternative uses\n",
      "  from imp import reload\n",
      "/home/shadman/.local/lib/python3.8/site-packages/gensim/matutils.py:22: DeprecationWarning: Please use `triu` from the `scipy.linalg` namespace, the `scipy.linalg.special_matrices` namespace is deprecated.\n",
      "  from scipy.linalg.special_matrices import triu\n",
      "/home/shadman/.local/lib/python3.8/site-packages/torch/cuda/__init__.py:83: UserWarning: HIP initialization: Unexpected error from hipGetDeviceCount(). Did you run some cuda functions before calling NumHipDevices() that might have already set an error? Error 101: hipErrorInvalidDevice (Triggered internally at  ../c10/hip/HIPFunctions.cpp:110.)\n",
      "  return torch._C._cuda_getDeviceCount() > 0\n",
      "2022-12-08 12:15:52.446808: I tensorflow/core/platform/cpu_feature_guard.cc:193] This TensorFlow binary is optimized with oneAPI Deep Neural Network Library (oneDNN) to use the following CPU instructions in performance-critical operations:  AVX2 AVX512F AVX512_VNNI FMA\n",
      "To enable them in other operations, rebuild TensorFlow with the appropriate compiler flags.\n",
      "2022-12-08 12:15:52.742829: I tensorflow/core/util/util.cc:169] oneDNN custom operations are on. You may see slightly different numerical results due to floating-point round-off errors from different computation orders. To turn them off, set the environment variable `TF_ENABLE_ONEDNN_OPTS=0`.\n",
      "2022-12-08 12:15:52.809225: W tensorflow/stream_executor/platform/default/dso_loader.cc:64] Could not load dynamic library 'libcudart.so.11.0'; dlerror: libcudart.so.11.0: cannot open shared object file: No such file or directory\n",
      "2022-12-08 12:15:52.809242: I tensorflow/stream_executor/cuda/cudart_stub.cc:29] Ignore above cudart dlerror if you do not have a GPU set up on your machine.\n",
      "2022-12-08 12:15:52.852373: E tensorflow/stream_executor/cuda/cuda_blas.cc:2981] Unable to register cuBLAS factory: Attempting to register factory for plugin cuBLAS when one has already been registered\n",
      "2022-12-08 12:15:53.851082: W tensorflow/stream_executor/platform/default/dso_loader.cc:64] Could not load dynamic library 'libnvinfer.so.7'; dlerror: libnvinfer.so.7: cannot open shared object file: No such file or directory\n",
      "2022-12-08 12:15:53.851349: W tensorflow/stream_executor/platform/default/dso_loader.cc:64] Could not load dynamic library 'libnvinfer_plugin.so.7'; dlerror: libnvinfer_plugin.so.7: cannot open shared object file: No such file or directory\n",
      "2022-12-08 12:15:53.851354: W tensorflow/compiler/tf2tensorrt/utils/py_utils.cc:38] TF-TRT Warning: Cannot dlopen some TensorRT libraries. If you would like to use Nvidia GPU with TensorRT, please make sure the missing libraries mentioned above are installed properly.\n",
      "2022-12-08 12:15:54.914289: W tensorflow/stream_executor/platform/default/dso_loader.cc:64] Could not load dynamic library 'libcuda.so.1'; dlerror: libcuda.so.1: cannot open shared object file: No such file or directory\n",
      "2022-12-08 12:15:54.914559: W tensorflow/stream_executor/cuda/cuda_driver.cc:263] failed call to cuInit: UNKNOWN ERROR (303)\n",
      "2022-12-08 12:15:54.914583: I tensorflow/stream_executor/cuda/cuda_diagnostics.cc:156] kernel driver does not appear to be running on this host (HP-ProBook-27516): /proc/driver/nvidia/version does not exist\n",
      "[nltk_data] Downloading package stopwords to\n",
      "[nltk_data]     /home/shadman/nltk_data...\n",
      "[nltk_data]   Package stopwords is already up-to-date!\n"
     ]
    }
   ],
   "source": [
    "from scraputil import *\n",
    "import pandas as pd"
   ]
  },
  {
   "cell_type": "code",
   "execution_count": 2,
   "outputs": [],
   "source": [
    "import undetected_chromedriver as uc\n",
    "import chromedriver_autoinstaller as cai\n",
    "cai.install()\n",
    "options = webdriver.ChromeOptions()\n",
    "options.add_argument(\"start-maximized\")\n",
    "driver = uc.Chrome(options=options)\n",
    "driver.get(\"https://www.dhakatribune.com/\")"
   ],
   "metadata": {
    "collapsed": false
   }
  },
  {
   "cell_type": "code",
   "execution_count": 3,
   "outputs": [
    {
     "name": "stdout",
     "output_type": "stream",
     "text": [
      "Scraping from Dhaka Tribune\n",
      "Searching...\n",
      "Search results ready!!\n",
      "News number: 1\n",
      "News number: 2\n",
      "News number: 3\n",
      "News number: 4\n",
      "News number: 5\n",
      "News number: 6\n",
      "News number: 7\n",
      "News number: 8\n",
      "News number: 9\n",
      "News number: 10\n",
      "1\n",
      "End of Dhaka Tribune search!\n",
      "0 GPU available\n",
      "Model already on device!\n"
     ]
    }
   ],
   "source": [
    "names = [ # 'newspapers71',\n",
    "         'ntv',\n",
    "         'prothomalo',\n",
    "         'kalerkantho',\n",
    "         'bhorerkagoj',\n",
    "         'jaijaidin',\n",
    "         # 'amadershomoy',\n",
    "         'inqilab',\n",
    "         'jugantor',\n",
    "         'nayadiganta',\n",
    "         'manabzamin',\n",
    "         'thedailystar',\n",
    "         'dhakatribune',\n",
    "         'tbsnews',\n",
    "         'thefinancialexpress']\n",
    "\n",
    "get_news = GetNews(browser='Undetected', headless=False, search_key=\"এসিআই\")\n",
    "get_news.select_browser('Undetected')\n",
    "\n",
    "translate = True\n",
    "news_data_df = pd.DataFrame()\n",
    "for name in names[-3:-2]:\n",
    "    news_df = get_news.extract(name, google_news=False, keep_content=False)\n",
    "    if translate: news_df = get_news.translate_news(news_df)\n",
    "    news_df['sentiment'] = get_sentiment(news_df.headline.to_list())\n",
    "    news_data_df = pd.concat((news_data_df, news_df), axis=0, ignore_index=True)\n",
    "\n",
    "get_news.close_browser()\n",
    "news_data_df.to_csv(\"./outputs.csv\", index=False)"
   ],
   "metadata": {
    "collapsed": false
   }
  },
  {
   "cell_type": "code",
   "execution_count": 5,
   "outputs": [
    {
     "data": {
      "text/plain": "      newspaper                                               link language  \\\n0  dhakatribune  https://www.dhakatribune.com/business/2022/11/...       en   \n1  dhakatribune  https://www.dhakatribune.com/business/2022/04/...       en   \n2  dhakatribune  https://www.dhakatribune.com/business/2022/03/...       en   \n3  dhakatribune  https://www.dhakatribune.com/achievement/2021/...       en   \n4  dhakatribune  https://www.dhakatribune.com/showtime/2022/03/...       en   \n5  dhakatribune  https://www.dhakatribune.com/business/2022/11/...       en   \n6  dhakatribune  https://www.dhakatribune.com/business/2022/10/...       en   \n7  dhakatribune   https://www.dhakatribune.com/tags/aci-motors-ltd       en   \n8  dhakatribune       https://www.dhakatribune.com/tags/aci-motors       en   \n9  dhakatribune  https://www.dhakatribune.com/showtime/2022/03/...       en   \n\n  date     section              source headline sentiment  \n0       html lang=  html>\\n<html lang=                NEU  \n1       html lang=  html>\\n<html lang=                NEU  \n2       html lang=  html>\\n<html lang=                NEU  \n3       html lang=  html>\\n<html lang=                NEU  \n4       html lang=  html>\\n<html lang=                NEU  \n5       html lang=  html>\\n<html lang=                NEU  \n6       html lang=  html>\\n<html lang=                NEU  \n7       html lang=  html>\\n<html lang=                NEU  \n8       html lang=  html>\\n<html lang=                NEU  \n9       html lang=  html>\\n<html lang=                NEU  ",
      "text/html": "<div>\n<style scoped>\n    .dataframe tbody tr th:only-of-type {\n        vertical-align: middle;\n    }\n\n    .dataframe tbody tr th {\n        vertical-align: top;\n    }\n\n    .dataframe thead th {\n        text-align: right;\n    }\n</style>\n<table border=\"1\" class=\"dataframe\">\n  <thead>\n    <tr style=\"text-align: right;\">\n      <th></th>\n      <th>newspaper</th>\n      <th>link</th>\n      <th>language</th>\n      <th>date</th>\n      <th>section</th>\n      <th>source</th>\n      <th>headline</th>\n      <th>sentiment</th>\n    </tr>\n  </thead>\n  <tbody>\n    <tr>\n      <th>0</th>\n      <td>dhakatribune</td>\n      <td>https://www.dhakatribune.com/business/2022/11/...</td>\n      <td>en</td>\n      <td></td>\n      <td>html lang=</td>\n      <td>html&gt;\\n&lt;html lang=</td>\n      <td></td>\n      <td>NEU</td>\n    </tr>\n    <tr>\n      <th>1</th>\n      <td>dhakatribune</td>\n      <td>https://www.dhakatribune.com/business/2022/04/...</td>\n      <td>en</td>\n      <td></td>\n      <td>html lang=</td>\n      <td>html&gt;\\n&lt;html lang=</td>\n      <td></td>\n      <td>NEU</td>\n    </tr>\n    <tr>\n      <th>2</th>\n      <td>dhakatribune</td>\n      <td>https://www.dhakatribune.com/business/2022/03/...</td>\n      <td>en</td>\n      <td></td>\n      <td>html lang=</td>\n      <td>html&gt;\\n&lt;html lang=</td>\n      <td></td>\n      <td>NEU</td>\n    </tr>\n    <tr>\n      <th>3</th>\n      <td>dhakatribune</td>\n      <td>https://www.dhakatribune.com/achievement/2021/...</td>\n      <td>en</td>\n      <td></td>\n      <td>html lang=</td>\n      <td>html&gt;\\n&lt;html lang=</td>\n      <td></td>\n      <td>NEU</td>\n    </tr>\n    <tr>\n      <th>4</th>\n      <td>dhakatribune</td>\n      <td>https://www.dhakatribune.com/showtime/2022/03/...</td>\n      <td>en</td>\n      <td></td>\n      <td>html lang=</td>\n      <td>html&gt;\\n&lt;html lang=</td>\n      <td></td>\n      <td>NEU</td>\n    </tr>\n    <tr>\n      <th>5</th>\n      <td>dhakatribune</td>\n      <td>https://www.dhakatribune.com/business/2022/11/...</td>\n      <td>en</td>\n      <td></td>\n      <td>html lang=</td>\n      <td>html&gt;\\n&lt;html lang=</td>\n      <td></td>\n      <td>NEU</td>\n    </tr>\n    <tr>\n      <th>6</th>\n      <td>dhakatribune</td>\n      <td>https://www.dhakatribune.com/business/2022/10/...</td>\n      <td>en</td>\n      <td></td>\n      <td>html lang=</td>\n      <td>html&gt;\\n&lt;html lang=</td>\n      <td></td>\n      <td>NEU</td>\n    </tr>\n    <tr>\n      <th>7</th>\n      <td>dhakatribune</td>\n      <td>https://www.dhakatribune.com/tags/aci-motors-ltd</td>\n      <td>en</td>\n      <td></td>\n      <td>html lang=</td>\n      <td>html&gt;\\n&lt;html lang=</td>\n      <td></td>\n      <td>NEU</td>\n    </tr>\n    <tr>\n      <th>8</th>\n      <td>dhakatribune</td>\n      <td>https://www.dhakatribune.com/tags/aci-motors</td>\n      <td>en</td>\n      <td></td>\n      <td>html lang=</td>\n      <td>html&gt;\\n&lt;html lang=</td>\n      <td></td>\n      <td>NEU</td>\n    </tr>\n    <tr>\n      <th>9</th>\n      <td>dhakatribune</td>\n      <td>https://www.dhakatribune.com/showtime/2022/03/...</td>\n      <td>en</td>\n      <td></td>\n      <td>html lang=</td>\n      <td>html&gt;\\n&lt;html lang=</td>\n      <td></td>\n      <td>NEU</td>\n    </tr>\n  </tbody>\n</table>\n</div>"
     },
     "execution_count": 5,
     "metadata": {},
     "output_type": "execute_result"
    }
   ],
   "source": [
    "news_data_df"
   ],
   "metadata": {
    "collapsed": false
   }
  }
 ],
 "metadata": {
  "kernelspec": {
   "display_name": "Python 3",
   "language": "python",
   "name": "python3"
  },
  "language_info": {
   "codemirror_mode": {
    "name": "ipython",
    "version": 2
   },
   "file_extension": ".py",
   "mimetype": "text/x-python",
   "name": "python",
   "nbconvert_exporter": "python",
   "pygments_lexer": "ipython2",
   "version": "2.7.6"
  }
 },
 "nbformat": 4,
 "nbformat_minor": 0
}
