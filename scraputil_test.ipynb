{
 "cells": [
  {
   "cell_type": "code",
   "execution_count": 2,
   "metadata": {
    "collapsed": true
   },
   "outputs": [],
   "source": [
    "from scraputil import *\n",
    "import pandas as pd"
   ]
  },
  {
   "cell_type": "code",
   "execution_count": 8,
   "outputs": [
    {
     "name": "stdout",
     "output_type": "stream",
     "text": [
      "Scraping from Jaijaidin\n",
      "Timed out! Trying new approach\n",
      "News number: 1\n",
      "News number: 2\n",
      "News number: 3\n",
      "News number: 4\n",
      "News number: 5\n",
      "News number: 6\n",
      "News number: 7\n",
      "News number: 8\n",
      "News number: 9\n",
      "News number: 10\n",
      "End of Jaijaidin search!\n",
      "Scraping from INQILAB.\n",
      "Search results ready!!\n",
      "News number: 1\n",
      "News number: 2\n",
      "News number: 3\n",
      "News number: 4\n",
      "News number: 5\n",
      "News number: 6\n",
      "News number: 7\n",
      "News number: 8\n",
      "News number: 9\n",
      "News number: 10\n",
      "News number: 11\n",
      "News number: 12\n",
      "News number: 13\n",
      "News number: 14\n",
      "News number: 15\n",
      "News number: 16\n",
      "News number: 17\n",
      "News number: 18\n",
      "News number: 19\n",
      "News number: 20\n",
      "News number: 21\n",
      "News number: 22\n",
      "News number: 23\n",
      "News number: 24\n",
      "End of Inqilab search!\n",
      "Scraping from Jugantor\n",
      "Search results ready!!\n",
      "News number: 1\n",
      "News number: 2\n",
      "News number: 3\n",
      "News number: 4\n",
      "News number: 5\n",
      "News number: 6\n",
      "News number: 7\n",
      "News number: 8\n",
      "News number: 9\n",
      "News number: 10\n",
      "1\n",
      "Element not visible due to ad\n",
      "End of Jugantor search!\n"
     ]
    }
   ],
   "source": [
    "names = [ # 'newspapers71',\n",
    "         'ntv',\n",
    "         'prothomalo',\n",
    "         'kalerkantho',\n",
    "         'bhorerkagoj',\n",
    "         'jaijaidin',\n",
    "         # 'amadershomoy',\n",
    "         'inqilab',\n",
    "         'jugantor',\n",
    "         'nayadiganta',\n",
    "         'manabzamin',\n",
    "         'thedailystar',\n",
    "         'dhakatribune',\n",
    "         'tbsnews',\n",
    "         'thefinancialexpress']\n",
    "\n",
    "get_news = GetNews(browser=\"Firefox\", headless=False, search_key=\"এসিআই\")\n",
    "get_news.select_browser(\"Firefox\")\n",
    "\n",
    "translate = False\n",
    "google_news_df = pd.DataFrame()\n",
    "for name in names[4:7]:\n",
    "    news_df = get_news.extract(name, google_news=False, keep_content=True)\n",
    "    if translate: news_df = get_news.translate_news(news_df)\n",
    "    google_news_df = pd.concat((google_news_df, news_df), axis=0, ignore_index=True)\n",
    "\n",
    "get_news.close_browser()\n",
    "google_news_df.to_csv(\"./outputs.csv\", index=False)"
   ],
   "metadata": {
    "collapsed": false
   }
  },
  {
   "cell_type": "code",
   "execution_count": 9,
   "outputs": [
    {
     "data": {
      "text/plain": "    newspaper                                               link language  \\\n0   jaijaidin  https://www.jaijaidinbd.com/todays-paper/homel...       bn   \n1   jaijaidin    https://www.jaijaidinbd.com/wholecountry/252932       bn   \n2   jaijaidin  https://www.jaijaidinbd.com/todays-paper/trade...       bn   \n3   jaijaidin  https://www.jaijaidinbd.com/todays-paper/trade...       bn   \n4   jaijaidin  https://www.jaijaidinbd.com/todays-paper/trade...       bn   \n5   jaijaidin    https://www.jaijaidinbd.com/wholecountry/240447       bn   \n6   jaijaidin  http://www.jaijaidinbd.com/todays-paper/trade-...       bn   \n7   jaijaidin  https://www.jaijaidinbd.com/todays-paper/last-...       bn   \n8   jaijaidin  https://www.jaijaidinbd.com/todays-paper/trade...       bn   \n9   jaijaidin  https://www.jaijaidinbd.com/todays-paper/trade...       bn   \n10    inqilab  https://www.dailyinqilab.com/article/499118/%E...       bn   \n11    inqilab  https://www.dailyinqilab.com/article/463265/%E...       bn   \n12    inqilab  https://www.dailyinqilab.com/article/389678/%E...       bn   \n13    inqilab  https://www.dailyinqilab.com/article/389570/%E...       bn   \n14    inqilab  https://www.dailyinqilab.com/article/387896/%E...       bn   \n15    inqilab  https://www.dailyinqilab.com/article/345216/%E...       bn   \n16    inqilab  https://www.dailyinqilab.com/article/282840/%E...       bn   \n17    inqilab  https://www.dailyinqilab.com/article/247517/%E...       bn   \n18    inqilab  https://www.dailyinqilab.com/article/247516/%E...       bn   \n19    inqilab  https://www.dailyinqilab.com/article/234480/%E...       bn   \n20    inqilab  https://www.dailyinqilab.com/article/229682/%E...       bn   \n21    inqilab  https://www.dailyinqilab.com/article/214498/%E...       bn   \n22    inqilab  https://www.dailyinqilab.com/article/214374/%E...       bn   \n23    inqilab  https://www.dailyinqilab.com/article/209535/%E...       bn   \n24    inqilab  https://www.dailyinqilab.com/article/201087/%E...       bn   \n25    inqilab  https://www.dailyinqilab.com/article/188109/%E...       bn   \n26    inqilab  https://www.dailyinqilab.com/article/186578/%E...       bn   \n27    inqilab  https://www.dailyinqilab.com/article/182966/%E...       bn   \n28    inqilab  https://www.dailyinqilab.com/article/176472/%E...       bn   \n29    inqilab  https://www.dailyinqilab.com/article/149948/%E...       bn   \n30    inqilab  https://www.dailyinqilab.com/article/148553/%E...       bn   \n31    inqilab  https://www.dailyinqilab.com/article/138140/%E...       bn   \n32    inqilab  https://www.dailyinqilab.com/article/121951/%E...       bn   \n33    inqilab  https://www.dailyinqilab.com/article/103903/%E...       bn   \n34   jugantor  https://www.jugantor.com/corporate-news/527201...       bn   \n35   jugantor  https://www.jugantor.com/corporate-news/544971...       bn   \n36   jugantor  https://www.jugantor.com/corporate-news/570105...       bn   \n37   jugantor  https://www.jugantor.com/corporate-news/502119...       bn   \n38   jugantor  https://www.jugantor.com/todays-paper/news/425...       bn   \n39   jugantor  http://www.jugantor.com/old/news/2014/06/30/11...       bn   \n40   jugantor  https://www.jugantor.com/todays-paper/news/956...       bn   \n41   jugantor  https://www.jugantor.com/todays-paper/news/386...       bn   \n42   jugantor  https://www.jugantor.com/todays-paper/news/448...       bn   \n43   jugantor  https://www.jugantor.com/todays-paper/news/236...       bn   \n\n                                               date          section  \\\n0                                      ০৯ জুন, ২০২২           স্বদেশ   \n1                                   ১৬ এপ্রিল, ২০২২          সারাদেশ   \n2                              ১৭ ফেব্রুয়ারি, ২০২২     অর্থ-বাণিজ্য   \n3                                      ১০ জুন, ২০২২     অর্থ-বাণিজ্য   \n4                                ২৭ জানুয়ারি, ২০২২     অর্থ-বাণিজ্য   \n5                              ২৫ ফেব্রুয়ারি, ২০২২          সারাদেশ   \n6                                  ১৩ নভেম্বর, ২০১৮     অর্থ-বাণিজ্য   \n7                                  ১৩ অক্টোবর, ২০২০       শেষের পাতা   \n8                               ২৭ সেপ্টেম্বর, ২০২২     অর্থ-বাণিজ্য   \n9                                 ২৭ ডিসেম্বর, ২০২১     অর্থ-বাণিজ্য   \n10         প্রকাশের সময় : ৫ জুলাই, ২০২২, ১২:০৩ এএম   ব্যবসা বাণিজ্য   \n11  প্রকাশের সময় : ১৭ ফেব্রুয়ারি, ২০২২, ৭:০১ পিএম      জাতীয় সংবাদ   \n12          প্রকাশের সময় : ১৫ জুন, ২০২১, ১২:০২ এএম      জাতীয় সংবাদ   \n13          প্রকাশের সময় : ১৪ জুন, ২০২১, ৬:২৮ পিএম           মহানগর   \n14           প্রকাশের সময় : ৮ জুন, ২০২১, ৬:৫৭ পিএম   ব্যবসা বাণিজ্য   \n15     প্রকাশের সময় : ২৪ ডিসেম্বর, ২০২০, ৫:০৩ পিএম   ব্যবসা বাণিজ্য   \n16       প্রকাশের সময় : ১৩ এপ্রিল, ২০২০, ২:১৩ পিএম   ব্যবসা বাণিজ্য   \n17      প্রকাশের সময় : ১২ নভেম্বর, ২০১৯, ৫:১১ পিএম   ব্যবসা বাণিজ্য   \n18      প্রকাশের সময় : ১২ নভেম্বর, ২০১৯, ৫:০৯ পিএম   ব্যবসা বাণিজ্য   \n19   প্রকাশের সময় : ১৬ সেপ্টেম্বর, ২০১৯, ৬:১৪ পিএম   ব্যবসা বাণিজ্য   \n20        প্রকাশের সময় : ২৬ আগস্ট, ২০১৯, ৯:১২ পিএম   ব্যবসা বাণিজ্য   \n21          প্রকাশের সময় : ২১ জুন, ২০১৯, ১২:১৩ এএম   ব্যবসা বাণিজ্য   \n22          প্রকাশের সময় : ২০ জুন, ২০১৯, ৭:৩১ পিএম   ব্যবসা বাণিজ্য   \n23           প্রকাশের সময় : ২৮ মে, ২০১৯, ৬:৩১ পিএম  সারা বাংলার খবর   \n24       প্রকাশের সময় : ২১ এপ্রিল, ২০১৯, ১২:০৬ এএম  বিনোদন প্রতিদিন   \n25  প্রকাশের সময় : ২২ ফেব্রুয়ারি, ২০১৯, ১২:২৩ এএম  সারা বাংলার খবর   \n26  প্রকাশের সময় : ১৬ ফেব্রুয়ারি, ২০১৯, ১২:০৩ এএম   ব্যবসা বাণিজ্য   \n27    প্রকাশের সময় : ৩১ জানুয়ারি, ২০১৯, ৬:০৭ পিএম   ব্যবসা বাণিজ্য   \n28     প্রকাশের সময় : ১ জানুয়ারি, ২০১৯, ১২:০৪ এএম  বিনোদন প্রতিদিন   \n29        প্রকাশের সময় : ২৯ আগস্ট, ২০১৮, ১২:০৩ এএম   ব্যবসা বাণিজ্য   \n30        প্রকাশের সময় : ১৯ আগস্ট, ২০১৮, ১২:০১ এএম        কর্পোরেট   \n31          প্রকাশের সময় : ২৬ জুন, ২০১৮, ১২:০১ এএম   ব্যবসা বাণিজ্য   \n32        প্রকাশের সময় : ১৮ মার্চ, ২০১৮, ১২:০০ এএম       অভ্যন্তরীণ   \n33      প্রকাশের সময় : ১২ নভেম্বর, ২০১৭, ১২:০০ এএম       অভ্যন্তরীণ   \n34                        ০৫ মার্চ ২০২২, ১০:১৩ পিএম    কর্পোরেট নিউজ   \n35                       ২৪ এপ্রিল ২০২২, ০৯:০৪ পিএম    কর্পোরেট নিউজ   \n36                        ০৫ জুলাই ২০২২, ০৪:০৪ পিএম    কর্পোরেট নিউজ   \n37                     ২৬ ডিসেম্বর ২০২১, ১০:২৩ পিএম    কর্পোরেট নিউজ   \n38                            ৩০ মে ২০২১, ১২:০০ এএম    আজকের পত্রিকা   \n39                           ৩০ জুন ২০১৪, ১২:০০ এএম              খবর   \n40                    ৩০ সেপ্টেম্বর ২০১৮, ১২:০০ এএম    আজকের পত্রিকা   \n41                      ২১ জানুয়ারি ২০২১, ১২:০০ এএম    আজকের পত্রিকা   \n42                         ৩০ জুলাই ২০২১, ১২:০০ এএম    আজকের পত্রিকা   \n43                       ২৬ অক্টোবর ২০১৯, ১২:০০ এএম    আজকের পত্রিকা   \n\n                           source  \\\n0                 প্রিন্ট সংস্করণ   \n1   বোরহানউদ্দিন (ভোলা) প্রতিনিধি   \n2                 প্রিন্ট সংস্করণ   \n3                 প্রিন্ট সংস্করণ   \n4                 প্রিন্ট সংস্করণ   \n5     মহাদেবপুর (নওগাঁ) প্রতিনিধি   \n6                 যাযাদি রিপোটর্   \n7                  যাযাদি রিপোর্ট   \n8                 প্রিন্ট সংস্করণ   \n9                 প্রিন্ট সংস্করণ   \n10                প্রেস বিজ্ঞপ্তি   \n11                  ইনকিলাব ডেস্ক   \n12            অর্থনৈতিক রিপোর্টার   \n13                স্টাফ রিপোর্টার   \n14            অর্থনৈতিক রিপোর্টার   \n15                  ইনকিলাব ডেস্ক   \n16            অর্থনৈতিক রিপোর্টার   \n17            অর্থনৈতিক রিপোর্টার   \n18            অর্থনৈতিক রিপোর্টার   \n19                স্টাফ রিপোর্টার   \n20            অর্থনৈতিক রিপোর্টার   \n21          অর্থনৈতিক রিপোর্টার :   \n22            অর্থনৈতিক রিপোর্টার   \n23         ঝিনাইদহ জেলা সংবাদদাতা   \n24                   বিনোদন ডেস্ক   \n25          অর্থনৈতিক রিপোর্টার :   \n26            অর্থনৈতিক রিপোর্টার   \n27            অর্থনৈতিক রিপোর্টার   \n28                  বিনোদন ডেস্ক:   \n29            অর্থনৈতিক রিপোর্টার   \n30            অর্থনৈতিক রিপোর্টার   \n31            অর্থনৈতিক রিপোর্টার   \n32                                  \n33                                  \n34                সংবাদ বিজ্ঞপ্তি   \n35                সংবাদ বিজ্ঞপ্তি   \n36                সংবাদ বিজ্ঞপ্তি   \n37                সংবাদ বিজ্ঞপ্তি   \n38                                  \n39                                  \n40                                  \n41                সংবাদ বিজ্ঞপ্তি   \n42                                  \n43                                  \n\n                                             headline  \\\n0                      জাতীয় বৃক্ষমেলায় 'এসিআই অরণ্য'   \n1   বোরহানউদ্দিনে এসিআই  মটরসের  ইফতার মাহফিল ও আল...   \n2   এসিআই জাতীয় ভর্তা প্রতিযোগিতা ২০২২ বিজয়ী হলেন ...   \n3        এসিআই 'রত্ন' সুষম সারের রোড শো কর্মসূচি চলছে   \n4   এসিআই পিওর সরিষার তেল ও আনন্দ আলো জাতীয় ভর্তা ...   \n5             ধান-চাল মজুতের দায়ে এসিআই ফুডকে জরিমানা   \n6                                  ফ্লোর কিনবে এসিআই   \n7   এসিআই কোম্পানির হ্যান্ড স্যানিটাইজারে মিথানল, ...   \n8            এসিআই ও পবিপ্রবির মধ্যে সমঝোতা স্মারক সই   \n9   এসিআই লিমিটেড ৬৫ শতাংশ নগদ এবং ১৫ শতাংশ স্টক ল...   \n10                           এসিআই ফরমুলেশনস্ লিমিটেড   \n11  ভাষার মাসে ‘ভাষার জন্য ভালোবাসা’ ক্যাম্পেইন আয়...   \n12                এসিআইয়ে বিদেশি বিনিয়োগ ৮৩ কোটি টাকা   \n13        ডিএমপিকে ফোটন অ্যাম্বুলেন্স দিলো এসিআই মটরস   \n14  বিশ্বখ্যাত ‘ইএনআই লুব্রিক্যান্টস’ নিয়ে এলো এসি...   \n15  এসিআই ফর্মুলেশনস ২০ শতাংশ নগদ লভ্যাংশ ঘোষণা করেছে   \n16  এসিআই ড্যানিশ পারটেক্সসহ আরও ১১ প্রতিষ্ঠানকে ব...   \n17               এসিআই লিমিটেডের আর্থিক বিবরণী প্রকাশ   \n18                    এসিআই’র ১১৫ শতাংশ লভ্যাংশ ঘোষণা   \n19  স্বাস্থ্য সচেতনদের জন্য এসিআই বাজারে নিয়ে এলো ...   \n20  এসিআই গ্রুপের চেয়ারম্যানের সাথে আইসিএমএবি প্রত...   \n21              কবেলকো, কেইস নিয়ে বিল্ডকনে এসিআই মটরস   \n22         কবলেকো, কইেস নিয়ে বিল্ডকনে এসিআই মটরস মটরস   \n23     ঝিনাইদহে ৬ হাজার কেজি এসিআই কোম্পানীর লবন জব্দ   \n24  এসিআই এক্সট্রা ফান কেক-চ্যানেল আই গানের রাজা ল...   \n25                                 এসিআই-বিকাশ সমঝোতা   \n26                  এসিআই’র লোকসানে তদন্তের সিদ্ধান্ত   \n27     ফোটন কমার্শিয়াল ভেহিক্যালের পরিবেশক এসিআই মটরস   \n28        এসিআই স্যান্ডাল সোপ ক্যালেন্ডার গার্লস ২০১৯   \n29           ফোটন মোটর গ্রুপ ও এসিআই মোটরস্-এর চুক্তি   \n30            এসিআই নিয়ে এলো সেপটেক্স এন্টিসেপটিক বার   \n31         এসিআইর ফ্রি পাওয়ার টিলার সার্ভিসিং ক্যাম্প   \n32  বোরো ক্ষেতের আগাছা দমনে এসিআইর নতুন জাম্প ওষুধ...   \n33                     এসিআই ইলেকট্রনিক্স এখন অনলাইনে   \n34                   জাতীয় সবজি মেলায় প্রথম এসিআই সীড   \n35  এসিআই মটরস্ বাংলাদেশে নিয়ে এলো ব্র্যান্ড নিউ ফ...   \n36                      এসিআই ক্রপ কেয়ার কনক্লেভ ২০২২   \n37  এসিআই ফর্মুলেশনসের ৩০ শতাংশ নগদ, ৫ শতাংশ স্টক ...   \n38  গ্রীষ্মকালীন সবজির চাহিদা মেটাতে চায় এসিআই ক্র...   \n39                        এসিআই নিয়ে এলো স্টিক নুডলস্   \n40  এসিআই ফ্লাওয়ারের উদ্যোগে ‘বেইক ইট বেস্ট’ অনুষ্ঠিত   \n41  খবর ও ছবি\\r\\n                    \\nএসিআই কনজুম...   \n42           এসিআই’র বোর্ড ডিরেক্টর নাজমা দৌলা আর নেই   \n43  খবর ও ছবি\\r\\n                    \\nএসিআই মটরস ...   \n\n                                          description  \n0   ঢাকার আগারগাঁওয়ে বঙ্গবন্ধু আন্তর্জাতিক সম্মেলন...  \n1   ভোলার বোরহানউদ্দিনে এসিআই মটরস্ লিমিটেডের উদ্য...  \n2   এসিআই পিওর সরিষার তেল আনন্দ আলো জাতীয় ভর্তা প্...  \n3   'সঠিক মানের সুষম সার, সহজ ব্যবহার, ফলন বাম্পার...  \n4   গরম ভাতের সঙ্গে আলুর ভর্তাও বেশ উপাদেয় খাবার। ...  \n5   নওগাঁর মহাদেবপুর উপজেলার স্বরসতিপুর বাজার এলাক...  \n6   পুঁজিবাজারে তালিকাভুক্ত এসিআই লিমিটেডের পরিচাল...  \n7   ওষুধ প্রস্তুতকারী প্রতিষ্ঠান এসিআইয়ের হ্যান্ড ...  \n8   অ্যাডভান্স কেমিক্যাল ইন্ডাস্ট্রিজ লিমিটেড (এসি...  \n9   এডভান্সড কেমিক্যাল ইন্ডাস্ট্রিজ লিমিটেডের (এসি...  \n10  এসিআই ফরমুলেশনস্ লিমিটেড এর অঙ্গ প্রতিষ্ঠান এস...  \n11  বাংলা ভাষার সঠিক ব্যবহার চর্চায় সামাজিক যোগাযো...  \n12  পুঁজিবাজারে তালিকাভুক্ত অ্যাডভান্স কেমিক্যাল ই...  \n13  দেশের করোনা মহামারীতে রোগী ব্যবস্থাপনায় সহযোগি...  \n14  দেশের মোটরযান ও উৎপাদন খাতকে আরও গতিশীল করার ল...  \n15  এসিআই ফর্মুলেশনস্ লিমিটেড এর ২৪ তম বার্ষিক সাধ...  \n16  আসন্ন পবিত্র রমজান উপলক্ষে মানসম্পন্ন পণ্য উৎপ...  \n17  অ্যাডভান্সড কেমিক্যাল ইন্ডাস্ট্রিজ লিমিটেড (এস...  \n18  পুঁজিবাজারে তালিকাভুক্ত এসিআই লিমিটেডের পরিচাল...  \n19  স্বাস্থ্য সচেতনদের জন্য বাংলাদেশের বাজারে ‘নিউ...  \n20  দি ইন্স্টিটিউট অব কস্ট এন্ড ম্যানেজমেন্ট একাউন...  \n21  রাজধানীতে শুরু হওয়া বাংলাদেশ বিল্ডকন ইন্টারন্য...  \n22  রাজধানীতে শুরু হওয়া বাংলাদেশ বিল্ডকন ইন্টারন্য...  \n23  ঝিনাইদহ শহরের ব্যাপারী পাড়ায় একটি বাড়িতে অভিযা...  \n24  প্রথমবার অনুষ্ঠিত শিশুদের মনন বিকাশে গানের উৎস...  \n25  এসিআই’র ফসলি অ্যাপ ব্যবহারকারী কৃষকরা কৃষি উৎপ...  \n26  পুঁজিবাজারে তালিকাভুক্ত ওষুধ ও রসায়ন খাতের কোম...  \n27  এসিআই লিমিটেড এর একটি গুরুত্বপূর্ণ অঙ্গপ্রতিষ্...  \n28  এসিআই স্যান্ডাল সোপ ক্যালেন্ডার গার্লস ২০১৯-এর...  \n29  বাংলাদেশে ম্যানুফ্যকচারিং প্লান্ট চালু ও বানিজ...  \n30  জনপ্রিয় পণ্যসামগ্রীর খ্যাতনামা প্রতিষ্ঠান এসিআ...  \n31  অর্থনৈতিক রিপোর্টার : দেশের ২০টি এলাকায় পাওয়ার...  \n32  সিরাজগঞ্জ থেকে সৈয়দ শামীম সিরাজী : বোরো ক্ষেতে...  \n33  অর্থনৈতিক রিপোর্টার : বাংলাদেশের শীর্ষ লাইফস্ট...  \n34  জাতীয় সবজি মেলা– ২০২২ এ প্যাভিলিয়ন পর্যায়ে প্র...  \n35  এসিআই মটরস্ বাংলাদেশে ফোটন ইন্টারন্যাশনাল থেকে...  \n36  এ সি আই ফরমুলেশনস্ লিমিটেড এর অঙ্গ প্রতিষ্ঠান ...  \n37  এসিআই ফর্মুলেশনস্ লিমিটেডের ২৫তম বার্ষিক সাধার...  \n38  আমাদের দেশের গ্রীষ্মকালীন শাক-সবজির চাহিদা ১২৪...  \n39  দেশের শীর্ষস্থানীয় কোম্পানি এসিআই বাজারে নিয়ে ...  \n40  হাইকমিশন অব কানাডা ও কানাডিয়ান ইন্টারন্যাশনাল ...  \n41  বাংলাদেশ ব্র্যান্ড ফোরাম ও নেলসনের যৌথ জরিপে ভ...  \n42  এসিআই লিমিটেডের চেয়ারম্যান এম আনিস উদ দৌলার স্...  \n43  অবকাঠামোগত উন্নয়ন সংক্রান্ত যন্ত্রাংশ সরবরাহকা...  ",
      "text/html": "<div>\n<style scoped>\n    .dataframe tbody tr th:only-of-type {\n        vertical-align: middle;\n    }\n\n    .dataframe tbody tr th {\n        vertical-align: top;\n    }\n\n    .dataframe thead th {\n        text-align: right;\n    }\n</style>\n<table border=\"1\" class=\"dataframe\">\n  <thead>\n    <tr style=\"text-align: right;\">\n      <th></th>\n      <th>newspaper</th>\n      <th>link</th>\n      <th>language</th>\n      <th>date</th>\n      <th>section</th>\n      <th>source</th>\n      <th>headline</th>\n      <th>description</th>\n    </tr>\n  </thead>\n  <tbody>\n    <tr>\n      <th>0</th>\n      <td>jaijaidin</td>\n      <td>https://www.jaijaidinbd.com/todays-paper/homel...</td>\n      <td>bn</td>\n      <td>০৯ জুন, ২০২২</td>\n      <td>স্বদেশ</td>\n      <td>প্রিন্ট সংস্করণ</td>\n      <td>জাতীয় বৃক্ষমেলায় 'এসিআই অরণ্য'</td>\n      <td>ঢাকার আগারগাঁওয়ে বঙ্গবন্ধু আন্তর্জাতিক সম্মেলন...</td>\n    </tr>\n    <tr>\n      <th>1</th>\n      <td>jaijaidin</td>\n      <td>https://www.jaijaidinbd.com/wholecountry/252932</td>\n      <td>bn</td>\n      <td>১৬ এপ্রিল, ২০২২</td>\n      <td>সারাদেশ</td>\n      <td>বোরহানউদ্দিন (ভোলা) প্রতিনিধি</td>\n      <td>বোরহানউদ্দিনে এসিআই  মটরসের  ইফতার মাহফিল ও আল...</td>\n      <td>ভোলার বোরহানউদ্দিনে এসিআই মটরস্ লিমিটেডের উদ্য...</td>\n    </tr>\n    <tr>\n      <th>2</th>\n      <td>jaijaidin</td>\n      <td>https://www.jaijaidinbd.com/todays-paper/trade...</td>\n      <td>bn</td>\n      <td>১৭ ফেব্রুয়ারি, ২০২২</td>\n      <td>অর্থ-বাণিজ্য</td>\n      <td>প্রিন্ট সংস্করণ</td>\n      <td>এসিআই জাতীয় ভর্তা প্রতিযোগিতা ২০২২ বিজয়ী হলেন ...</td>\n      <td>এসিআই পিওর সরিষার তেল আনন্দ আলো জাতীয় ভর্তা প্...</td>\n    </tr>\n    <tr>\n      <th>3</th>\n      <td>jaijaidin</td>\n      <td>https://www.jaijaidinbd.com/todays-paper/trade...</td>\n      <td>bn</td>\n      <td>১০ জুন, ২০২২</td>\n      <td>অর্থ-বাণিজ্য</td>\n      <td>প্রিন্ট সংস্করণ</td>\n      <td>এসিআই 'রত্ন' সুষম সারের রোড শো কর্মসূচি চলছে</td>\n      <td>'সঠিক মানের সুষম সার, সহজ ব্যবহার, ফলন বাম্পার...</td>\n    </tr>\n    <tr>\n      <th>4</th>\n      <td>jaijaidin</td>\n      <td>https://www.jaijaidinbd.com/todays-paper/trade...</td>\n      <td>bn</td>\n      <td>২৭ জানুয়ারি, ২০২২</td>\n      <td>অর্থ-বাণিজ্য</td>\n      <td>প্রিন্ট সংস্করণ</td>\n      <td>এসিআই পিওর সরিষার তেল ও আনন্দ আলো জাতীয় ভর্তা ...</td>\n      <td>গরম ভাতের সঙ্গে আলুর ভর্তাও বেশ উপাদেয় খাবার। ...</td>\n    </tr>\n    <tr>\n      <th>5</th>\n      <td>jaijaidin</td>\n      <td>https://www.jaijaidinbd.com/wholecountry/240447</td>\n      <td>bn</td>\n      <td>২৫ ফেব্রুয়ারি, ২০২২</td>\n      <td>সারাদেশ</td>\n      <td>মহাদেবপুর (নওগাঁ) প্রতিনিধি</td>\n      <td>ধান-চাল মজুতের দায়ে এসিআই ফুডকে জরিমানা</td>\n      <td>নওগাঁর মহাদেবপুর উপজেলার স্বরসতিপুর বাজার এলাক...</td>\n    </tr>\n    <tr>\n      <th>6</th>\n      <td>jaijaidin</td>\n      <td>http://www.jaijaidinbd.com/todays-paper/trade-...</td>\n      <td>bn</td>\n      <td>১৩ নভেম্বর, ২০১৮</td>\n      <td>অর্থ-বাণিজ্য</td>\n      <td>যাযাদি রিপোটর্</td>\n      <td>ফ্লোর কিনবে এসিআই</td>\n      <td>পুঁজিবাজারে তালিকাভুক্ত এসিআই লিমিটেডের পরিচাল...</td>\n    </tr>\n    <tr>\n      <th>7</th>\n      <td>jaijaidin</td>\n      <td>https://www.jaijaidinbd.com/todays-paper/last-...</td>\n      <td>bn</td>\n      <td>১৩ অক্টোবর, ২০২০</td>\n      <td>শেষের পাতা</td>\n      <td>যাযাদি রিপোর্ট</td>\n      <td>এসিআই কোম্পানির হ্যান্ড স্যানিটাইজারে মিথানল, ...</td>\n      <td>ওষুধ প্রস্তুতকারী প্রতিষ্ঠান এসিআইয়ের হ্যান্ড ...</td>\n    </tr>\n    <tr>\n      <th>8</th>\n      <td>jaijaidin</td>\n      <td>https://www.jaijaidinbd.com/todays-paper/trade...</td>\n      <td>bn</td>\n      <td>২৭ সেপ্টেম্বর, ২০২২</td>\n      <td>অর্থ-বাণিজ্য</td>\n      <td>প্রিন্ট সংস্করণ</td>\n      <td>এসিআই ও পবিপ্রবির মধ্যে সমঝোতা স্মারক সই</td>\n      <td>অ্যাডভান্স কেমিক্যাল ইন্ডাস্ট্রিজ লিমিটেড (এসি...</td>\n    </tr>\n    <tr>\n      <th>9</th>\n      <td>jaijaidin</td>\n      <td>https://www.jaijaidinbd.com/todays-paper/trade...</td>\n      <td>bn</td>\n      <td>২৭ ডিসেম্বর, ২০২১</td>\n      <td>অর্থ-বাণিজ্য</td>\n      <td>প্রিন্ট সংস্করণ</td>\n      <td>এসিআই লিমিটেড ৬৫ শতাংশ নগদ এবং ১৫ শতাংশ স্টক ল...</td>\n      <td>এডভান্সড কেমিক্যাল ইন্ডাস্ট্রিজ লিমিটেডের (এসি...</td>\n    </tr>\n    <tr>\n      <th>10</th>\n      <td>inqilab</td>\n      <td>https://www.dailyinqilab.com/article/499118/%E...</td>\n      <td>bn</td>\n      <td>প্রকাশের সময় : ৫ জুলাই, ২০২২, ১২:০৩ এএম</td>\n      <td>ব্যবসা বাণিজ্য</td>\n      <td>প্রেস বিজ্ঞপ্তি</td>\n      <td>এসিআই ফরমুলেশনস্ লিমিটেড</td>\n      <td>এসিআই ফরমুলেশনস্ লিমিটেড এর অঙ্গ প্রতিষ্ঠান এস...</td>\n    </tr>\n    <tr>\n      <th>11</th>\n      <td>inqilab</td>\n      <td>https://www.dailyinqilab.com/article/463265/%E...</td>\n      <td>bn</td>\n      <td>প্রকাশের সময় : ১৭ ফেব্রুয়ারি, ২০২২, ৭:০১ পিএম</td>\n      <td>জাতীয় সংবাদ</td>\n      <td>ইনকিলাব ডেস্ক</td>\n      <td>ভাষার মাসে ‘ভাষার জন্য ভালোবাসা’ ক্যাম্পেইন আয়...</td>\n      <td>বাংলা ভাষার সঠিক ব্যবহার চর্চায় সামাজিক যোগাযো...</td>\n    </tr>\n    <tr>\n      <th>12</th>\n      <td>inqilab</td>\n      <td>https://www.dailyinqilab.com/article/389678/%E...</td>\n      <td>bn</td>\n      <td>প্রকাশের সময় : ১৫ জুন, ২০২১, ১২:০২ এএম</td>\n      <td>জাতীয় সংবাদ</td>\n      <td>অর্থনৈতিক রিপোর্টার</td>\n      <td>এসিআইয়ে বিদেশি বিনিয়োগ ৮৩ কোটি টাকা</td>\n      <td>পুঁজিবাজারে তালিকাভুক্ত অ্যাডভান্স কেমিক্যাল ই...</td>\n    </tr>\n    <tr>\n      <th>13</th>\n      <td>inqilab</td>\n      <td>https://www.dailyinqilab.com/article/389570/%E...</td>\n      <td>bn</td>\n      <td>প্রকাশের সময় : ১৪ জুন, ২০২১, ৬:২৮ পিএম</td>\n      <td>মহানগর</td>\n      <td>স্টাফ রিপোর্টার</td>\n      <td>ডিএমপিকে ফোটন অ্যাম্বুলেন্স দিলো এসিআই মটরস</td>\n      <td>দেশের করোনা মহামারীতে রোগী ব্যবস্থাপনায় সহযোগি...</td>\n    </tr>\n    <tr>\n      <th>14</th>\n      <td>inqilab</td>\n      <td>https://www.dailyinqilab.com/article/387896/%E...</td>\n      <td>bn</td>\n      <td>প্রকাশের সময় : ৮ জুন, ২০২১, ৬:৫৭ পিএম</td>\n      <td>ব্যবসা বাণিজ্য</td>\n      <td>অর্থনৈতিক রিপোর্টার</td>\n      <td>বিশ্বখ্যাত ‘ইএনআই লুব্রিক্যান্টস’ নিয়ে এলো এসি...</td>\n      <td>দেশের মোটরযান ও উৎপাদন খাতকে আরও গতিশীল করার ল...</td>\n    </tr>\n    <tr>\n      <th>15</th>\n      <td>inqilab</td>\n      <td>https://www.dailyinqilab.com/article/345216/%E...</td>\n      <td>bn</td>\n      <td>প্রকাশের সময় : ২৪ ডিসেম্বর, ২০২০, ৫:০৩ পিএম</td>\n      <td>ব্যবসা বাণিজ্য</td>\n      <td>ইনকিলাব ডেস্ক</td>\n      <td>এসিআই ফর্মুলেশনস ২০ শতাংশ নগদ লভ্যাংশ ঘোষণা করেছে</td>\n      <td>এসিআই ফর্মুলেশনস্ লিমিটেড এর ২৪ তম বার্ষিক সাধ...</td>\n    </tr>\n    <tr>\n      <th>16</th>\n      <td>inqilab</td>\n      <td>https://www.dailyinqilab.com/article/282840/%E...</td>\n      <td>bn</td>\n      <td>প্রকাশের সময় : ১৩ এপ্রিল, ২০২০, ২:১৩ পিএম</td>\n      <td>ব্যবসা বাণিজ্য</td>\n      <td>অর্থনৈতিক রিপোর্টার</td>\n      <td>এসিআই ড্যানিশ পারটেক্সসহ আরও ১১ প্রতিষ্ঠানকে ব...</td>\n      <td>আসন্ন পবিত্র রমজান উপলক্ষে মানসম্পন্ন পণ্য উৎপ...</td>\n    </tr>\n    <tr>\n      <th>17</th>\n      <td>inqilab</td>\n      <td>https://www.dailyinqilab.com/article/247517/%E...</td>\n      <td>bn</td>\n      <td>প্রকাশের সময় : ১২ নভেম্বর, ২০১৯, ৫:১১ পিএম</td>\n      <td>ব্যবসা বাণিজ্য</td>\n      <td>অর্থনৈতিক রিপোর্টার</td>\n      <td>এসিআই লিমিটেডের আর্থিক বিবরণী প্রকাশ</td>\n      <td>অ্যাডভান্সড কেমিক্যাল ইন্ডাস্ট্রিজ লিমিটেড (এস...</td>\n    </tr>\n    <tr>\n      <th>18</th>\n      <td>inqilab</td>\n      <td>https://www.dailyinqilab.com/article/247516/%E...</td>\n      <td>bn</td>\n      <td>প্রকাশের সময় : ১২ নভেম্বর, ২০১৯, ৫:০৯ পিএম</td>\n      <td>ব্যবসা বাণিজ্য</td>\n      <td>অর্থনৈতিক রিপোর্টার</td>\n      <td>এসিআই’র ১১৫ শতাংশ লভ্যাংশ ঘোষণা</td>\n      <td>পুঁজিবাজারে তালিকাভুক্ত এসিআই লিমিটেডের পরিচাল...</td>\n    </tr>\n    <tr>\n      <th>19</th>\n      <td>inqilab</td>\n      <td>https://www.dailyinqilab.com/article/234480/%E...</td>\n      <td>bn</td>\n      <td>প্রকাশের সময় : ১৬ সেপ্টেম্বর, ২০১৯, ৬:১৪ পিএম</td>\n      <td>ব্যবসা বাণিজ্য</td>\n      <td>স্টাফ রিপোর্টার</td>\n      <td>স্বাস্থ্য সচেতনদের জন্য এসিআই বাজারে নিয়ে এলো ...</td>\n      <td>স্বাস্থ্য সচেতনদের জন্য বাংলাদেশের বাজারে ‘নিউ...</td>\n    </tr>\n    <tr>\n      <th>20</th>\n      <td>inqilab</td>\n      <td>https://www.dailyinqilab.com/article/229682/%E...</td>\n      <td>bn</td>\n      <td>প্রকাশের সময় : ২৬ আগস্ট, ২০১৯, ৯:১২ পিএম</td>\n      <td>ব্যবসা বাণিজ্য</td>\n      <td>অর্থনৈতিক রিপোর্টার</td>\n      <td>এসিআই গ্রুপের চেয়ারম্যানের সাথে আইসিএমএবি প্রত...</td>\n      <td>দি ইন্স্টিটিউট অব কস্ট এন্ড ম্যানেজমেন্ট একাউন...</td>\n    </tr>\n    <tr>\n      <th>21</th>\n      <td>inqilab</td>\n      <td>https://www.dailyinqilab.com/article/214498/%E...</td>\n      <td>bn</td>\n      <td>প্রকাশের সময় : ২১ জুন, ২০১৯, ১২:১৩ এএম</td>\n      <td>ব্যবসা বাণিজ্য</td>\n      <td>অর্থনৈতিক রিপোর্টার :</td>\n      <td>কবেলকো, কেইস নিয়ে বিল্ডকনে এসিআই মটরস</td>\n      <td>রাজধানীতে শুরু হওয়া বাংলাদেশ বিল্ডকন ইন্টারন্য...</td>\n    </tr>\n    <tr>\n      <th>22</th>\n      <td>inqilab</td>\n      <td>https://www.dailyinqilab.com/article/214374/%E...</td>\n      <td>bn</td>\n      <td>প্রকাশের সময় : ২০ জুন, ২০১৯, ৭:৩১ পিএম</td>\n      <td>ব্যবসা বাণিজ্য</td>\n      <td>অর্থনৈতিক রিপোর্টার</td>\n      <td>কবলেকো, কইেস নিয়ে বিল্ডকনে এসিআই মটরস মটরস</td>\n      <td>রাজধানীতে শুরু হওয়া বাংলাদেশ বিল্ডকন ইন্টারন্য...</td>\n    </tr>\n    <tr>\n      <th>23</th>\n      <td>inqilab</td>\n      <td>https://www.dailyinqilab.com/article/209535/%E...</td>\n      <td>bn</td>\n      <td>প্রকাশের সময় : ২৮ মে, ২০১৯, ৬:৩১ পিএম</td>\n      <td>সারা বাংলার খবর</td>\n      <td>ঝিনাইদহ জেলা সংবাদদাতা</td>\n      <td>ঝিনাইদহে ৬ হাজার কেজি এসিআই কোম্পানীর লবন জব্দ</td>\n      <td>ঝিনাইদহ শহরের ব্যাপারী পাড়ায় একটি বাড়িতে অভিযা...</td>\n    </tr>\n    <tr>\n      <th>24</th>\n      <td>inqilab</td>\n      <td>https://www.dailyinqilab.com/article/201087/%E...</td>\n      <td>bn</td>\n      <td>প্রকাশের সময় : ২১ এপ্রিল, ২০১৯, ১২:০৬ এএম</td>\n      <td>বিনোদন প্রতিদিন</td>\n      <td>বিনোদন ডেস্ক</td>\n      <td>এসিআই এক্সট্রা ফান কেক-চ্যানেল আই গানের রাজা ল...</td>\n      <td>প্রথমবার অনুষ্ঠিত শিশুদের মনন বিকাশে গানের উৎস...</td>\n    </tr>\n    <tr>\n      <th>25</th>\n      <td>inqilab</td>\n      <td>https://www.dailyinqilab.com/article/188109/%E...</td>\n      <td>bn</td>\n      <td>প্রকাশের সময় : ২২ ফেব্রুয়ারি, ২০১৯, ১২:২৩ এএম</td>\n      <td>সারা বাংলার খবর</td>\n      <td>অর্থনৈতিক রিপোর্টার :</td>\n      <td>এসিআই-বিকাশ সমঝোতা</td>\n      <td>এসিআই’র ফসলি অ্যাপ ব্যবহারকারী কৃষকরা কৃষি উৎপ...</td>\n    </tr>\n    <tr>\n      <th>26</th>\n      <td>inqilab</td>\n      <td>https://www.dailyinqilab.com/article/186578/%E...</td>\n      <td>bn</td>\n      <td>প্রকাশের সময় : ১৬ ফেব্রুয়ারি, ২০১৯, ১২:০৩ এএম</td>\n      <td>ব্যবসা বাণিজ্য</td>\n      <td>অর্থনৈতিক রিপোর্টার</td>\n      <td>এসিআই’র লোকসানে তদন্তের সিদ্ধান্ত</td>\n      <td>পুঁজিবাজারে তালিকাভুক্ত ওষুধ ও রসায়ন খাতের কোম...</td>\n    </tr>\n    <tr>\n      <th>27</th>\n      <td>inqilab</td>\n      <td>https://www.dailyinqilab.com/article/182966/%E...</td>\n      <td>bn</td>\n      <td>প্রকাশের সময় : ৩১ জানুয়ারি, ২০১৯, ৬:০৭ পিএম</td>\n      <td>ব্যবসা বাণিজ্য</td>\n      <td>অর্থনৈতিক রিপোর্টার</td>\n      <td>ফোটন কমার্শিয়াল ভেহিক্যালের পরিবেশক এসিআই মটরস</td>\n      <td>এসিআই লিমিটেড এর একটি গুরুত্বপূর্ণ অঙ্গপ্রতিষ্...</td>\n    </tr>\n    <tr>\n      <th>28</th>\n      <td>inqilab</td>\n      <td>https://www.dailyinqilab.com/article/176472/%E...</td>\n      <td>bn</td>\n      <td>প্রকাশের সময় : ১ জানুয়ারি, ২০১৯, ১২:০৪ এএম</td>\n      <td>বিনোদন প্রতিদিন</td>\n      <td>বিনোদন ডেস্ক:</td>\n      <td>এসিআই স্যান্ডাল সোপ ক্যালেন্ডার গার্লস ২০১৯</td>\n      <td>এসিআই স্যান্ডাল সোপ ক্যালেন্ডার গার্লস ২০১৯-এর...</td>\n    </tr>\n    <tr>\n      <th>29</th>\n      <td>inqilab</td>\n      <td>https://www.dailyinqilab.com/article/149948/%E...</td>\n      <td>bn</td>\n      <td>প্রকাশের সময় : ২৯ আগস্ট, ২০১৮, ১২:০৩ এএম</td>\n      <td>ব্যবসা বাণিজ্য</td>\n      <td>অর্থনৈতিক রিপোর্টার</td>\n      <td>ফোটন মোটর গ্রুপ ও এসিআই মোটরস্-এর চুক্তি</td>\n      <td>বাংলাদেশে ম্যানুফ্যকচারিং প্লান্ট চালু ও বানিজ...</td>\n    </tr>\n    <tr>\n      <th>30</th>\n      <td>inqilab</td>\n      <td>https://www.dailyinqilab.com/article/148553/%E...</td>\n      <td>bn</td>\n      <td>প্রকাশের সময় : ১৯ আগস্ট, ২০১৮, ১২:০১ এএম</td>\n      <td>কর্পোরেট</td>\n      <td>অর্থনৈতিক রিপোর্টার</td>\n      <td>এসিআই নিয়ে এলো সেপটেক্স এন্টিসেপটিক বার</td>\n      <td>জনপ্রিয় পণ্যসামগ্রীর খ্যাতনামা প্রতিষ্ঠান এসিআ...</td>\n    </tr>\n    <tr>\n      <th>31</th>\n      <td>inqilab</td>\n      <td>https://www.dailyinqilab.com/article/138140/%E...</td>\n      <td>bn</td>\n      <td>প্রকাশের সময় : ২৬ জুন, ২০১৮, ১২:০১ এএম</td>\n      <td>ব্যবসা বাণিজ্য</td>\n      <td>অর্থনৈতিক রিপোর্টার</td>\n      <td>এসিআইর ফ্রি পাওয়ার টিলার সার্ভিসিং ক্যাম্প</td>\n      <td>অর্থনৈতিক রিপোর্টার : দেশের ২০টি এলাকায় পাওয়ার...</td>\n    </tr>\n    <tr>\n      <th>32</th>\n      <td>inqilab</td>\n      <td>https://www.dailyinqilab.com/article/121951/%E...</td>\n      <td>bn</td>\n      <td>প্রকাশের সময় : ১৮ মার্চ, ২০১৮, ১২:০০ এএম</td>\n      <td>অভ্যন্তরীণ</td>\n      <td></td>\n      <td>বোরো ক্ষেতের আগাছা দমনে এসিআইর নতুন জাম্প ওষুধ...</td>\n      <td>সিরাজগঞ্জ থেকে সৈয়দ শামীম সিরাজী : বোরো ক্ষেতে...</td>\n    </tr>\n    <tr>\n      <th>33</th>\n      <td>inqilab</td>\n      <td>https://www.dailyinqilab.com/article/103903/%E...</td>\n      <td>bn</td>\n      <td>প্রকাশের সময় : ১২ নভেম্বর, ২০১৭, ১২:০০ এএম</td>\n      <td>অভ্যন্তরীণ</td>\n      <td></td>\n      <td>এসিআই ইলেকট্রনিক্স এখন অনলাইনে</td>\n      <td>অর্থনৈতিক রিপোর্টার : বাংলাদেশের শীর্ষ লাইফস্ট...</td>\n    </tr>\n    <tr>\n      <th>34</th>\n      <td>jugantor</td>\n      <td>https://www.jugantor.com/corporate-news/527201...</td>\n      <td>bn</td>\n      <td>০৫ মার্চ ২০২২, ১০:১৩ পিএম</td>\n      <td>কর্পোরেট নিউজ</td>\n      <td>সংবাদ বিজ্ঞপ্তি</td>\n      <td>জাতীয় সবজি মেলায় প্রথম এসিআই সীড</td>\n      <td>জাতীয় সবজি মেলা– ২০২২ এ প্যাভিলিয়ন পর্যায়ে প্র...</td>\n    </tr>\n    <tr>\n      <th>35</th>\n      <td>jugantor</td>\n      <td>https://www.jugantor.com/corporate-news/544971...</td>\n      <td>bn</td>\n      <td>২৪ এপ্রিল ২০২২, ০৯:০৪ পিএম</td>\n      <td>কর্পোরেট নিউজ</td>\n      <td>সংবাদ বিজ্ঞপ্তি</td>\n      <td>এসিআই মটরস্ বাংলাদেশে নিয়ে এলো ব্র্যান্ড নিউ ফ...</td>\n      <td>এসিআই মটরস্ বাংলাদেশে ফোটন ইন্টারন্যাশনাল থেকে...</td>\n    </tr>\n    <tr>\n      <th>36</th>\n      <td>jugantor</td>\n      <td>https://www.jugantor.com/corporate-news/570105...</td>\n      <td>bn</td>\n      <td>০৫ জুলাই ২০২২, ০৪:০৪ পিএম</td>\n      <td>কর্পোরেট নিউজ</td>\n      <td>সংবাদ বিজ্ঞপ্তি</td>\n      <td>এসিআই ক্রপ কেয়ার কনক্লেভ ২০২২</td>\n      <td>এ সি আই ফরমুলেশনস্ লিমিটেড এর অঙ্গ প্রতিষ্ঠান ...</td>\n    </tr>\n    <tr>\n      <th>37</th>\n      <td>jugantor</td>\n      <td>https://www.jugantor.com/corporate-news/502119...</td>\n      <td>bn</td>\n      <td>২৬ ডিসেম্বর ২০২১, ১০:২৩ পিএম</td>\n      <td>কর্পোরেট নিউজ</td>\n      <td>সংবাদ বিজ্ঞপ্তি</td>\n      <td>এসিআই ফর্মুলেশনসের ৩০ শতাংশ নগদ, ৫ শতাংশ স্টক ...</td>\n      <td>এসিআই ফর্মুলেশনস্ লিমিটেডের ২৫তম বার্ষিক সাধার...</td>\n    </tr>\n    <tr>\n      <th>38</th>\n      <td>jugantor</td>\n      <td>https://www.jugantor.com/todays-paper/news/425...</td>\n      <td>bn</td>\n      <td>৩০ মে ২০২১, ১২:০০ এএম</td>\n      <td>আজকের পত্রিকা</td>\n      <td></td>\n      <td>গ্রীষ্মকালীন সবজির চাহিদা মেটাতে চায় এসিআই ক্র...</td>\n      <td>আমাদের দেশের গ্রীষ্মকালীন শাক-সবজির চাহিদা ১২৪...</td>\n    </tr>\n    <tr>\n      <th>39</th>\n      <td>jugantor</td>\n      <td>http://www.jugantor.com/old/news/2014/06/30/11...</td>\n      <td>bn</td>\n      <td>৩০ জুন ২০১৪, ১২:০০ এএম</td>\n      <td>খবর</td>\n      <td></td>\n      <td>এসিআই নিয়ে এলো স্টিক নুডলস্</td>\n      <td>দেশের শীর্ষস্থানীয় কোম্পানি এসিআই বাজারে নিয়ে ...</td>\n    </tr>\n    <tr>\n      <th>40</th>\n      <td>jugantor</td>\n      <td>https://www.jugantor.com/todays-paper/news/956...</td>\n      <td>bn</td>\n      <td>৩০ সেপ্টেম্বর ২০১৮, ১২:০০ এএম</td>\n      <td>আজকের পত্রিকা</td>\n      <td></td>\n      <td>এসিআই ফ্লাওয়ারের উদ্যোগে ‘বেইক ইট বেস্ট’ অনুষ্ঠিত</td>\n      <td>হাইকমিশন অব কানাডা ও কানাডিয়ান ইন্টারন্যাশনাল ...</td>\n    </tr>\n    <tr>\n      <th>41</th>\n      <td>jugantor</td>\n      <td>https://www.jugantor.com/todays-paper/news/386...</td>\n      <td>bn</td>\n      <td>২১ জানুয়ারি ২০২১, ১২:০০ এএম</td>\n      <td>আজকের পত্রিকা</td>\n      <td>সংবাদ বিজ্ঞপ্তি</td>\n      <td>খবর ও ছবি\\r\\n                    \\nএসিআই কনজুম...</td>\n      <td>বাংলাদেশ ব্র্যান্ড ফোরাম ও নেলসনের যৌথ জরিপে ভ...</td>\n    </tr>\n    <tr>\n      <th>42</th>\n      <td>jugantor</td>\n      <td>https://www.jugantor.com/todays-paper/news/448...</td>\n      <td>bn</td>\n      <td>৩০ জুলাই ২০২১, ১২:০০ এএম</td>\n      <td>আজকের পত্রিকা</td>\n      <td></td>\n      <td>এসিআই’র বোর্ড ডিরেক্টর নাজমা দৌলা আর নেই</td>\n      <td>এসিআই লিমিটেডের চেয়ারম্যান এম আনিস উদ দৌলার স্...</td>\n    </tr>\n    <tr>\n      <th>43</th>\n      <td>jugantor</td>\n      <td>https://www.jugantor.com/todays-paper/news/236...</td>\n      <td>bn</td>\n      <td>২৬ অক্টোবর ২০১৯, ১২:০০ এএম</td>\n      <td>আজকের পত্রিকা</td>\n      <td></td>\n      <td>খবর ও ছবি\\r\\n                    \\nএসিআই মটরস ...</td>\n      <td>অবকাঠামোগত উন্নয়ন সংক্রান্ত যন্ত্রাংশ সরবরাহকা...</td>\n    </tr>\n  </tbody>\n</table>\n</div>"
     },
     "execution_count": 9,
     "metadata": {},
     "output_type": "execute_result"
    }
   ],
   "source": [
    "google_news_df"
   ],
   "metadata": {
    "collapsed": false
   }
  },
  {
   "cell_type": "code",
   "execution_count": 3,
   "outputs": [],
   "source": [
    "df = pd.DataFrame({'name': ['Olivia','Dean','Alex','Jon','Tom','Jane','Kate'],\n",
    "           'age': [32,23,45,35,20,28,55],\n",
    "           'sex':['female', 'male','male','male','male','female','female']})"
   ],
   "metadata": {
    "collapsed": false
   }
  },
  {
   "cell_type": "code",
   "execution_count": 6,
   "outputs": [
    {
     "name": "stderr",
     "output_type": "stream",
     "text": [
      "/tmp/ipykernel_16228/3360014758.py:1: SettingWithCopyWarning: \n",
      "A value is trying to be set on a copy of a slice from a DataFrame\n",
      "\n",
      "See the caveats in the documentation: https://pandas.pydata.org/pandas-docs/stable/user_guide/indexing.html#returning-a-view-versus-a-copy\n",
      "  df.name[2] = 5\n"
     ]
    }
   ],
   "source": [
    "df.name[2] = 5"
   ],
   "metadata": {
    "collapsed": false
   }
  },
  {
   "cell_type": "code",
   "execution_count": null,
   "outputs": [],
   "source": [],
   "metadata": {
    "collapsed": false
   }
  }
 ],
 "metadata": {
  "kernelspec": {
   "display_name": "Python 3",
   "language": "python",
   "name": "python3"
  },
  "language_info": {
   "codemirror_mode": {
    "name": "ipython",
    "version": 2
   },
   "file_extension": ".py",
   "mimetype": "text/x-python",
   "name": "python",
   "nbconvert_exporter": "python",
   "pygments_lexer": "ipython2",
   "version": "2.7.6"
  }
 },
 "nbformat": 4,
 "nbformat_minor": 0
}
