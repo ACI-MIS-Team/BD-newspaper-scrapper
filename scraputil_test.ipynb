{
 "cells": [
  {
   "cell_type": "code",
   "execution_count": 2,
   "metadata": {
    "collapsed": true
   },
   "outputs": [
    {
     "name": "stderr",
     "output_type": "stream",
     "text": [
      "/usr/lib/python3/dist-packages/past/builtins/misc.py:45: DeprecationWarning: the imp module is deprecated in favour of importlib; see the module's documentation for alternative uses\n",
      "  from imp import reload\n",
      "/home/nayan/.local/lib/python3.8/site-packages/gensim/matutils.py:22: DeprecationWarning: Please use `triu` from the `scipy.linalg` namespace, the `scipy.linalg.special_matrices` namespace is deprecated.\n",
      "  from scipy.linalg.special_matrices import triu\n",
      "[nltk_data] Downloading package stopwords to /home/nayan/nltk_data...\n",
      "[nltk_data]   Package stopwords is already up-to-date!\n"
     ]
    }
   ],
   "source": [
    "import re\n",
    "\n",
    "from scraputil import *\n",
    "import pandas as pd"
   ]
  },
  {
   "cell_type": "code",
   "execution_count": 2,
   "outputs": [],
   "source": [
    "import undetected_chromedriver as uc\n",
    "import chromedriver_autoinstaller as cai\n",
    "cai.install()\n",
    "\n",
    "# driver = uc.Chrome(options=options)\n",
    "# driver.get(\"https://www.dhakatribune.com/\")"
   ],
   "metadata": {
    "collapsed": false
   }
  },
  {
   "cell_type": "code",
   "execution_count": 6,
   "outputs": [
    {
     "name": "stdout",
     "output_type": "stream",
     "text": [
      "Scraping from NTV\n",
      "News number: 1\n",
      "News number: 2\n",
      "News number: 3\n",
      "News number: 4\n",
      "News number: 5\n",
      "News number: 6\n",
      "News number: 7\n",
      "News number: 8\n",
      "News number: 9\n",
      "News number: 10\n",
      "End of NTV search!\n",
      "0 GPU available\n",
      "Model already on device!\n"
     ]
    }
   ],
   "source": [
    "names = [ # 'newspapers71',\n",
    "         'ntv',\n",
    "         'prothomalo',\n",
    "         'kalerkantho',\n",
    "         'bhorerkagoj',\n",
    "         'jaijaidin',\n",
    "         # 'amadershomoy',\n",
    "         'inqilab',\n",
    "         'jugantor',\n",
    "         'nayadiganta',\n",
    "         'manabzamin',\n",
    "         'thedailystar',\n",
    "         'dhakatribune',\n",
    "         'tbsnews',\n",
    "         'thefinancialexpress']\n",
    "\n",
    "get_news = GetNews(browser='Firefox', headless=False, search_key=\"এসিআই\")\n",
    "get_news.select_browser('Firefox')\n",
    "\n",
    "translate = True\n",
    "news_data_df = pd.DataFrame()\n",
    "for name in names[0:1]:\n",
    "    news_df = get_news.extract(name, google_news=False, keep_content=False)\n",
    "    if translate: news_df = get_news.translate_news(news_df)\n",
    "    news_df['sentiment'] = get_sentiment(news_df.headline.to_list())\n",
    "    news_data_df = pd.concat((news_data_df, news_df), axis=0, ignore_index=True)\n",
    "\n",
    "get_news.close_browser()\n",
    "news_data_df.to_csv(\"./outputs.csv\", index=False)"
   ],
   "metadata": {
    "collapsed": false
   }
  },
  {
   "cell_type": "code",
   "execution_count": 21,
   "outputs": [
    {
     "data": {
      "text/plain": "Timestamp('2022-09-06 00:00:00')"
     },
     "execution_count": 21,
     "metadata": {},
     "output_type": "execute_result"
    }
   ],
   "source": [
    "pd.to_datetime(news_data_df['date'][0])"
   ],
   "metadata": {
    "collapsed": false
   }
  },
  {
   "cell_type": "code",
   "execution_count": 26,
   "outputs": [
    {
     "name": "stdout",
     "output_type": "stream",
     "text": [
      "{'newspaper': 'prothomalo', 'link': 'https://www.prothomalo.com/bangladesh/%E0%A6%8F%E0%A6%B8%E0%A6%BF%E0%A6%86%E0%A6%87-%E0%A6%A6%E0%A7%80%E0%A6%AA%E0%A7%8D%E0%A6%A4-%E0%A6%95%E0%A7%83%E0%A6%B7%E0%A6%BF-%E0%A6%85%E0%A7%8D%E0%A6%AF%E0%A6%BE%E0%A6%93%E0%A7%9F%E0%A6%BE%E0%A6%B0%E0%A7%8D%E0%A6%A1-%E0%A6%A6%E0%A7%87%E0%A6%93%E0%A7%9F%E0%A6%BE-%E0%A6%B9%E0%A6%AC%E0%A7%87-%E0%A6%B6%E0%A7%81%E0%A6%95%E0%A7%8D%E0%A6%B0%E0%A6%AC%E0%A6%BE%E0%A6%B0', 'language': 'bn', 'date': '2022-03-03', 'section': 'বাংলাদেশ', 'source': 'নিজস্ব প্রতিবেদক, ঢাকা', 'headline': 'এসিআই দীপ্ত কৃষি অ্যাওয়ার্ড দেওয়া হবে শুক্রবার', 'description': '‘এসিআই দীপ্ত কৃষি অ্যাওয়ার্ড ২০২১’ দ্বিতীয়বারের মতো আয়োজন করা হয়েছে। শুক্রবার বিশেষ অনুষ্ঠানের মাধ্যমে এই অ্যাওয়ার্ড দেওয়া হবে। এ ছাড়া দিনব্যাপী থাকবে কৃষি মেলা। আয়োজনটি বিকেল ৪টায় সরাসরি সম্প্রচার করবে দীপ্ত টিভি। \\n বুধবার দুপুরে দীপ্ত টিভি ভবনে আয়োজিত এক সংবাদ সম্মেলনে এসব তথ্য জানানো হয়। এ সময় উপস্থিত ছিলেন দীপ্ত টিভির প্রধান নির্বাহী কর্মকর্তা (সিইও) ফুয়াদ চৌধুরী, এসিআই এগ্রো বিজনেস ডিভিশনের প্রেসিডেন্ট ফা হ আনসারী, বাংলাদেশ কৃষি গবেষণা ইনস্টিটিউটের মহাপরিচালক দেবাশীষ সরকার ও কৃষি সম্প্রসারণ অধিদপ্তরের মহাপরিচালক মো. বেনজীর আলম। \\n২০১৬ সালের ৭ জুন থেকে দীপ্ত টিভিতে সম্প্রচারিত হয়ে আসছে কৃষি বিষয়ক অনুষ্ঠান ‘দীপ্ত কৃষি’। দীর্ঘ সময় ধরে বাংলাদেশের কৃষি অগ্রযাত্রায় কাজ করছে অনুষ্ঠানটি। কৃষির অগ্রগতিতে যাঁরা অবদান রেখেছেন সেসব কৃষকদের সম্মাননা জানানোর লক্ষ্যে এই পদক প্রবর্তন করা হয়।\\nসংবাদ সম্মেলনে জানানো হয়, কৃষকদের সম্মাননা দেবেন কৃষিমন্ত্রী আব্দুর রাজ্জাক, মৎস্য ও প্রাণিসম্পদ মন্ত্রী শ ম রেজাউল করিম, বিভিন্ন দেশের রাষ্ট্রদূত ও কৃষি সংশ্লিষ্ট প্রতিষ্ঠানের মহাপরিচালকরা। কৃষকদের সম্মাননা সনদ, ক্রেস্ট, এক লাখ টাকা ও এসিআইয়ের পক্ষ থেকে উপহার দেওয়া হবে।\\nমোট ১০ বিভাগে কৃষকদের এ পদক দেওয়া হচ্ছে। এর মধ্যে রয়েছে, সেরা মৎস্যচাষি, সেরা পোলট্রি খামারি, সেরা কৃষি উদ্ভাবক, সেরা মাঠ ফসল উৎপাদনকারী কৃষক, সেরা সবজিচাষি, সেরা গবাদিপশুর খামারি, সেরা ফলবাগানি, সেরা গুচ্ছ কৃষি বা সমবায় কৃষি, সেরা কৃষি উদ্যোক্তা পুরুষ ও সেরা কৃষি উদ্যোক্তা নারী।\\nপুরস্কার প্রদান মঞ্চে সাংস্কৃতিক পরিবেশনায় অংশ নেবেন চিত্রনায়িকা অপু বিশ্বাস, মেহজাবিন চৌধুরী, মিম চৌধুরী ও নাদিয়া। এ ছাড়া গান পরিবেশন করবেন সাংসদ মমতাজ। অনুষ্ঠানটি উপস্থাপনা করবেন চিত্রনায়ক ফেরদৌস ও চিত্রনায়িকা পূর্ণিমা।\\n'}\n"
     ]
    }
   ],
   "source": [
    "import chromedriver_autoinstaller\n",
    "chromedriver_autoinstaller.install()\n",
    "options = webdriver.ChromeOptions()\n",
    "options.add_argument(\"start-maximized\")\n",
    "search_key=\"এসিআই\"\n",
    "\n",
    "# driver = webdriver.Chrome(options=options)\n",
    "# driver.get('https://www.prothomalo.com/' + \"search?q=\" + search_key)\n",
    "# search_links = driver.find_elements(By.XPATH, \"//a[@class='card-with-image-zoom'][@href]\")\n",
    "next_j = 0\n",
    "keep_content = True\n",
    "# for j, element in enumerate(search_links[next_j:]):\n",
    "page_link = \"https://www.prothomalo.com/bangladesh/%E0%A6%8F%E0%A6%B8%E0%A6%BF%E0%A6%86%E0%A6%87-%E0%A6%A6%E0%A7%80%E0%A6%AA%E0%A7%8D%E0%A6%A4-%E0%A6%95%E0%A7%83%E0%A6%B7%E0%A6%BF-%E0%A6%85%E0%A7%8D%E0%A6%AF%E0%A6%BE%E0%A6%93%E0%A7%9F%E0%A6%BE%E0%A6%B0%E0%A7%8D%E0%A6%A1-%E0%A6%A6%E0%A7%87%E0%A6%93%E0%A7%9F%E0%A6%BE-%E0%A6%B9%E0%A6%AC%E0%A7%87-%E0%A6%B6%E0%A7%81%E0%A6%95%E0%A7%8D%E0%A6%B0%E0%A6%AC%E0%A6%BE%E0%A6%B0\"\n",
    "# print(f\"News number: {next_j + (j + 1)}\")\n",
    "\n",
    "page_source = requests.get(page_link).text\n",
    "page_html = BeautifulSoup(page_source, features=\"html.parser\")\n",
    "date = page_html.find('time', {'datetime': re.compile(r\"\")})['datetime']\n",
    "page_header = page_html.find('div', {'class': re.compile(r\"story-title\")})\n",
    "headline = page_header.find('h1')\n",
    "section = page_header.find('a')\n",
    "source = page_html.find('div', {'class': re.compile(r\"contributor\")})\n",
    "location = page_html.find('span', {'class': re.compile(r\"location\")})\n",
    "\n",
    "if keep_content:\n",
    "    description = page_html.find('div', {'class': re.compile(r\"^story-grid\")})\n",
    "\n",
    "\n",
    "data_dict = {\n",
    "    'newspaper': 'prothomalo',\n",
    "    'link': page_link,\n",
    "    'language': 'bn',\n",
    "    'date': str(pd.to_datetime(date).date()) if date else None,\n",
    "    'section': section.attrs['aria-label'].strip() if section else '',\n",
    "    'source': ''.join([source.text if source else ''] + [', ' + location.text if location else '']),\n",
    "    'headline': headline.text.strip()\n",
    "}\n",
    "if keep_content:\n",
    "    desc = ''\n",
    "    for para in description.find_all('p'):\n",
    "        desc += para.text + '\\n'\n",
    "    data_dict['description'] = desc if description else description\n",
    "\n",
    "print(data_dict)\n",
    "# translate = True\n",
    "# news_data_df = pd.DataFrame()\n",
    "# for name in names[0:1]:\n",
    "#     news_df = get_news.extract(name, google_news=False, keep_content=False)\n",
    "#     if translate: news_df = get_news.translate_news(news_df)\n",
    "#     news_df['sentiment'] = get_sentiment(news_df.headline.to_list())\n",
    "#     news_data_df = pd.concat((news_data_df, news_df), axis=0, ignore_index=True)\n",
    "#\n",
    "# get_news.close_browser()\n",
    "# news_data_df.to_csv(\"./outputs.csv\", index=False)\n"
   ],
   "metadata": {
    "collapsed": false
   }
  },
  {
   "cell_type": "code",
   "execution_count": 21,
   "outputs": [
    {
     "data": {
      "text/plain": "<div class=\"author-name-location-wrapper\"><div class=\"print-authors-list zM7oX\"><div class=\"contributor-type-7 wqvPE _7cKay\"><span class=\"contributor-name _8TSJC\">তারিকুর রহমান খান</span></div></div></div>"
     },
     "execution_count": 21,
     "metadata": {},
     "output_type": "execute_result"
    }
   ],
   "source": [
    "page_html.find('div', {'class': re.compile(r\"location\")}).find()\n"
   ],
   "metadata": {
    "collapsed": false
   }
  },
  {
   "cell_type": "code",
   "execution_count": 27,
   "outputs": [
    {
     "data": {
      "text/plain": "     newspaper                                               link language  \\\n0   prothomalo  https://www.prothomalo.com/bangladesh/environm...       bn   \n1   prothomalo  https://www.prothomalo.com/business/corporate/...       bn   \n2   prothomalo  https://www.prothomalo.com/business/corporate/...       bn   \n3   prothomalo  https://www.prothomalo.com/video/bangladesh/98...       bn   \n4   prothomalo  https://www.prothomalo.com/video/bangladesh/v9...       bn   \n5   prothomalo     https://www.prothomalo.com/business/2mkfi5u24u       bn   \n6   prothomalo  https://www.prothomalo.com/video/bangladesh/%E...       bn   \n7   prothomalo  https://www.prothomalo.com/video/bangladesh/%E...       bn   \n8   prothomalo  https://www.prothomalo.com/bangladesh/%E0%A6%8...       bn   \n9   prothomalo  https://www.prothomalo.com/bangladesh/district...       bn   \n10  prothomalo  https://www.prothomalo.com/lifestyle/shopping/...       bn   \n11  prothomalo  https://www.prothomalo.com/business/corporate/...       bn   \n12  prothomalo  https://www.prothomalo.com/business/%E0%A6%89%...       bn   \n13  prothomalo  https://www.prothomalo.com/bangladesh/district...       bn   \n14  prothomalo  https://www.prothomalo.com/business/corporate/...       bn   \n\n          date          section                              source  \\\n0   2022-12-06  the environment                 Tariqur Rahman Khan   \n1   2022-11-12   Corporate news            Own Correspondent, Dhaka   \n2   2022-10-23   Corporate news                          Trade Desk   \n3   2022-10-21              NaN                                 NaN   \n4   2022-09-20              NaN                                 NaN   \n5   2022-09-01            trade                Advertising messages   \n6   2022-04-29              NaN                                 NaN   \n7   2022-04-29              NaN                                 NaN   \n8   2022-03-03       Bangladesh            Own Correspondent, Dhaka   \n9   2022-02-02         district            Own Correspondent, Bogra   \n10  2021-09-07         shopping                      Lifestyle Desk   \n11  2021-06-29   Corporate news            Own Correspondent, Dhaka   \n12  2021-02-28     entrepreneur            Own Correspondent, Dhaka   \n13  2020-12-17         district  Representative, Raipur, Lakshmipur   \n14  2020-09-10   Corporate news                          Trade Desk   \n\n                                             headline sentiment  \n0     ACI is working on modern agricultural machinery       NEU  \n1         Yamaha celebrates six years with ACI Motors       POS  \n2      ACI at Safcon Exhibition\\nGenerators of motors       NEU  \n3         ACI Motors-Yamaha eye-catching bike display       NEU  \n4          ACI Motors Annual Customer Fest at Caspian       NEU  \n5   ACI Motors: A combination of state-of-the-art ...       NEU  \n6   Shahi Biryani ACI Pure Spices Dedicated 'Eid S...       NEU  \n7   Shahi Kheer ACI Pure Spices Dedicated 'Eid Sha...       NEU  \n8     ACI Deepta Krishi Award will be given on Friday       NEU  \n9   Alamgir, who wanted to teach in exchange for r...       NEU  \n10                 ACI Pure Salt is uniquely talented       POS  \n11            ACI chairman received agriculture award       POS  \n12    Syed Alamgir, famous for 'Halal soap', left ACI       NEU  \n13  Body of ACI officer recovered 3 days after boa...       NEU  \n14        ACI will market Hemoincer diesel generators       NEU  ",
      "text/html": "<div>\n<style scoped>\n    .dataframe tbody tr th:only-of-type {\n        vertical-align: middle;\n    }\n\n    .dataframe tbody tr th {\n        vertical-align: top;\n    }\n\n    .dataframe thead th {\n        text-align: right;\n    }\n</style>\n<table border=\"1\" class=\"dataframe\">\n  <thead>\n    <tr style=\"text-align: right;\">\n      <th></th>\n      <th>newspaper</th>\n      <th>link</th>\n      <th>language</th>\n      <th>date</th>\n      <th>section</th>\n      <th>source</th>\n      <th>headline</th>\n      <th>sentiment</th>\n    </tr>\n  </thead>\n  <tbody>\n    <tr>\n      <th>0</th>\n      <td>prothomalo</td>\n      <td>https://www.prothomalo.com/bangladesh/environm...</td>\n      <td>bn</td>\n      <td>2022-12-06</td>\n      <td>the environment</td>\n      <td>Tariqur Rahman Khan</td>\n      <td>ACI is working on modern agricultural machinery</td>\n      <td>NEU</td>\n    </tr>\n    <tr>\n      <th>1</th>\n      <td>prothomalo</td>\n      <td>https://www.prothomalo.com/business/corporate/...</td>\n      <td>bn</td>\n      <td>2022-11-12</td>\n      <td>Corporate news</td>\n      <td>Own Correspondent, Dhaka</td>\n      <td>Yamaha celebrates six years with ACI Motors</td>\n      <td>POS</td>\n    </tr>\n    <tr>\n      <th>2</th>\n      <td>prothomalo</td>\n      <td>https://www.prothomalo.com/business/corporate/...</td>\n      <td>bn</td>\n      <td>2022-10-23</td>\n      <td>Corporate news</td>\n      <td>Trade Desk</td>\n      <td>ACI at Safcon Exhibition\\nGenerators of motors</td>\n      <td>NEU</td>\n    </tr>\n    <tr>\n      <th>3</th>\n      <td>prothomalo</td>\n      <td>https://www.prothomalo.com/video/bangladesh/98...</td>\n      <td>bn</td>\n      <td>2022-10-21</td>\n      <td>NaN</td>\n      <td>NaN</td>\n      <td>ACI Motors-Yamaha eye-catching bike display</td>\n      <td>NEU</td>\n    </tr>\n    <tr>\n      <th>4</th>\n      <td>prothomalo</td>\n      <td>https://www.prothomalo.com/video/bangladesh/v9...</td>\n      <td>bn</td>\n      <td>2022-09-20</td>\n      <td>NaN</td>\n      <td>NaN</td>\n      <td>ACI Motors Annual Customer Fest at Caspian</td>\n      <td>NEU</td>\n    </tr>\n    <tr>\n      <th>5</th>\n      <td>prothomalo</td>\n      <td>https://www.prothomalo.com/business/2mkfi5u24u</td>\n      <td>bn</td>\n      <td>2022-09-01</td>\n      <td>trade</td>\n      <td>Advertising messages</td>\n      <td>ACI Motors: A combination of state-of-the-art ...</td>\n      <td>NEU</td>\n    </tr>\n    <tr>\n      <th>6</th>\n      <td>prothomalo</td>\n      <td>https://www.prothomalo.com/video/bangladesh/%E...</td>\n      <td>bn</td>\n      <td>2022-04-29</td>\n      <td>NaN</td>\n      <td>NaN</td>\n      <td>Shahi Biryani ACI Pure Spices Dedicated 'Eid S...</td>\n      <td>NEU</td>\n    </tr>\n    <tr>\n      <th>7</th>\n      <td>prothomalo</td>\n      <td>https://www.prothomalo.com/video/bangladesh/%E...</td>\n      <td>bn</td>\n      <td>2022-04-29</td>\n      <td>NaN</td>\n      <td>NaN</td>\n      <td>Shahi Kheer ACI Pure Spices Dedicated 'Eid Sha...</td>\n      <td>NEU</td>\n    </tr>\n    <tr>\n      <th>8</th>\n      <td>prothomalo</td>\n      <td>https://www.prothomalo.com/bangladesh/%E0%A6%8...</td>\n      <td>bn</td>\n      <td>2022-03-03</td>\n      <td>Bangladesh</td>\n      <td>Own Correspondent, Dhaka</td>\n      <td>ACI Deepta Krishi Award will be given on Friday</td>\n      <td>NEU</td>\n    </tr>\n    <tr>\n      <th>9</th>\n      <td>prothomalo</td>\n      <td>https://www.prothomalo.com/bangladesh/district...</td>\n      <td>bn</td>\n      <td>2022-02-02</td>\n      <td>district</td>\n      <td>Own Correspondent, Bogra</td>\n      <td>Alamgir, who wanted to teach in exchange for r...</td>\n      <td>NEU</td>\n    </tr>\n    <tr>\n      <th>10</th>\n      <td>prothomalo</td>\n      <td>https://www.prothomalo.com/lifestyle/shopping/...</td>\n      <td>bn</td>\n      <td>2021-09-07</td>\n      <td>shopping</td>\n      <td>Lifestyle Desk</td>\n      <td>ACI Pure Salt is uniquely talented</td>\n      <td>POS</td>\n    </tr>\n    <tr>\n      <th>11</th>\n      <td>prothomalo</td>\n      <td>https://www.prothomalo.com/business/corporate/...</td>\n      <td>bn</td>\n      <td>2021-06-29</td>\n      <td>Corporate news</td>\n      <td>Own Correspondent, Dhaka</td>\n      <td>ACI chairman received agriculture award</td>\n      <td>POS</td>\n    </tr>\n    <tr>\n      <th>12</th>\n      <td>prothomalo</td>\n      <td>https://www.prothomalo.com/business/%E0%A6%89%...</td>\n      <td>bn</td>\n      <td>2021-02-28</td>\n      <td>entrepreneur</td>\n      <td>Own Correspondent, Dhaka</td>\n      <td>Syed Alamgir, famous for 'Halal soap', left ACI</td>\n      <td>NEU</td>\n    </tr>\n    <tr>\n      <th>13</th>\n      <td>prothomalo</td>\n      <td>https://www.prothomalo.com/bangladesh/district...</td>\n      <td>bn</td>\n      <td>2020-12-17</td>\n      <td>district</td>\n      <td>Representative, Raipur, Lakshmipur</td>\n      <td>Body of ACI officer recovered 3 days after boa...</td>\n      <td>NEU</td>\n    </tr>\n    <tr>\n      <th>14</th>\n      <td>prothomalo</td>\n      <td>https://www.prothomalo.com/business/corporate/...</td>\n      <td>bn</td>\n      <td>2020-09-10</td>\n      <td>Corporate news</td>\n      <td>Trade Desk</td>\n      <td>ACI will market Hemoincer diesel generators</td>\n      <td>NEU</td>\n    </tr>\n  </tbody>\n</table>\n</div>"
     },
     "execution_count": 27,
     "metadata": {},
     "output_type": "execute_result"
    }
   ],
   "source": [
    "df = pd.read_csv(\"./outputs.csv\")\n",
    "df"
   ],
   "metadata": {
    "collapsed": false
   }
  },
  {
   "cell_type": "code",
   "execution_count": 29,
   "outputs": [
    {
     "name": "stderr",
     "output_type": "stream",
     "text": [
      "PandasGUI INFO — pandasgui.gui — Opening PandasGUI\n",
      "INFO:pandasgui.gui:Opening PandasGUI\n"
     ]
    },
    {
     "data": {
      "text/plain": "<pandasgui.gui.PandasGui at 0x7f9cf8c3ff70>"
     },
     "execution_count": 29,
     "metadata": {},
     "output_type": "execute_result"
    }
   ],
   "source": [
    "from pandasgui import show\n",
    "\n",
    "show(df)"
   ],
   "metadata": {
    "collapsed": false
   }
  },
  {
   "cell_type": "code",
   "execution_count": 30,
   "outputs": [
    {
     "name": "stderr",
     "output_type": "stream",
     "text": [
      "PandasGUI INFO — pandasgui.gui — Opening PandasGUI\n",
      "INFO:pandasgui.gui:Opening PandasGUI\n",
      "  OpenType support missing for \"Ubuntu\", script 12\n"
     ]
    },
    {
     "data": {
      "text/plain": "<pandasgui.gui.PandasGui at 0x7f9ccc09d0d0>"
     },
     "execution_count": 30,
     "metadata": {},
     "output_type": "execute_result"
    }
   ],
   "source": [
    "temp_df = pd.read_csv(\"./data/temp.csv\")\n",
    "show(temp_df)"
   ],
   "metadata": {
    "collapsed": false
   }
  },
  {
   "cell_type": "code",
   "execution_count": null,
   "outputs": [],
   "source": [],
   "metadata": {
    "collapsed": false
   }
  }
 ],
 "metadata": {
  "kernelspec": {
   "display_name": "Python 3",
   "language": "python",
   "name": "python3"
  },
  "language_info": {
   "codemirror_mode": {
    "name": "ipython",
    "version": 2
   },
   "file_extension": ".py",
   "mimetype": "text/x-python",
   "name": "python",
   "nbconvert_exporter": "python",
   "pygments_lexer": "ipython2",
   "version": "2.7.6"
  }
 },
 "nbformat": 4,
 "nbformat_minor": 0
}
